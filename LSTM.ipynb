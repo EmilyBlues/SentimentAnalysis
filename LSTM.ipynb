{
 "cells": [
  {
   "cell_type": "code",
   "execution_count": 2,
   "metadata": {
    "_cell_guid": "b1076dfc-b9ad-4769-8c92-a6c4dae69d19",
    "_uuid": "8f2839f25d086af736a60e9eeb907d3b93b6e0e5"
   },
   "outputs": [],
   "source": [
    "from importlib import reload\n",
    "import sys\n",
    "from imp import reload\n",
    "import warnings\n",
    "warnings.filterwarnings('ignore')\n",
    "if sys.version[0] == '2':\n",
    "    reload(sys)\n",
    "    sys.setdefaultencoding(\"utf-8\")"
   ]
  },
  {
   "cell_type": "code",
   "execution_count": 3,
   "metadata": {
    "_cell_guid": "79c7e3d0-c299-4dcb-8224-4455121ee9b0",
    "_uuid": "d629ff2d2480ee46fbb7e2d37f6b5fab8052498a"
   },
   "outputs": [
    {
     "data": {
      "text/html": [
       "<div>\n",
       "<style scoped>\n",
       "    .dataframe tbody tr th:only-of-type {\n",
       "        vertical-align: middle;\n",
       "    }\n",
       "\n",
       "    .dataframe tbody tr th {\n",
       "        vertical-align: top;\n",
       "    }\n",
       "\n",
       "    .dataframe thead th {\n",
       "        text-align: right;\n",
       "    }\n",
       "</style>\n",
       "<table border=\"1\" class=\"dataframe\">\n",
       "  <thead>\n",
       "    <tr style=\"text-align: right;\">\n",
       "      <th></th>\n",
       "      <th>sentiment</th>\n",
       "      <th>review</th>\n",
       "    </tr>\n",
       "  </thead>\n",
       "  <tbody>\n",
       "    <tr>\n",
       "      <th>0</th>\n",
       "      <td>1</td>\n",
       "      <td>With all this stuff going down at the moment w...</td>\n",
       "    </tr>\n",
       "    <tr>\n",
       "      <th>1</th>\n",
       "      <td>1</td>\n",
       "      <td>\\The Classic War of the Worlds\\\" by Timothy Hi...</td>\n",
       "    </tr>\n",
       "    <tr>\n",
       "      <th>2</th>\n",
       "      <td>0</td>\n",
       "      <td>The film starts with a manager (Nicholas Bell)...</td>\n",
       "    </tr>\n",
       "    <tr>\n",
       "      <th>3</th>\n",
       "      <td>0</td>\n",
       "      <td>It must be assumed that those who praised this...</td>\n",
       "    </tr>\n",
       "    <tr>\n",
       "      <th>4</th>\n",
       "      <td>1</td>\n",
       "      <td>Superbly trashy and wondrously unpretentious 8...</td>\n",
       "    </tr>\n",
       "  </tbody>\n",
       "</table>\n",
       "</div>"
      ],
      "text/plain": [
       "   sentiment                                             review\n",
       "0          1  With all this stuff going down at the moment w...\n",
       "1          1  \\The Classic War of the Worlds\\\" by Timothy Hi...\n",
       "2          0  The film starts with a manager (Nicholas Bell)...\n",
       "3          0  It must be assumed that those who praised this...\n",
       "4          1  Superbly trashy and wondrously unpretentious 8..."
      ]
     },
     "execution_count": 3,
     "metadata": {},
     "output_type": "execute_result"
    }
   ],
   "source": [
    "import pandas as pd\n",
    "\n",
    "df1 = pd.read_csv('./data/data/labeledTrainData.tsv', delimiter=\"\\t\")\n",
    "df1 = df1.drop(['id'], axis=1)\n",
    "df1.head()"
   ]
  },
  {
   "cell_type": "code",
   "execution_count": 32,
   "metadata": {},
   "outputs": [],
   "source": [
    "ddf1 = pd.read_csv(\"./target-sentiment-analysis/train.tsv\", header=None, delimiter=\"\\t\", quoting=3)"
   ]
  },
  {
   "cell_type": "code",
   "execution_count": 33,
   "metadata": {},
   "outputs": [],
   "source": [
    "from bs4 import BeautifulSoup\n",
    "\n",
    "def review_to_words(raw_review, index1, index2):\n",
    "    # 1. Remove HTML\n",
    "    review_text = BeautifulSoup(raw_review).get_text() \n",
    "    #\n",
    "    # 2. Remove non-letters        \n",
    "    #\n",
    "    # 3. Convert to lower case, split into individual words\n",
    "    words = review_text.lower().split()                             \n",
    "    #\n",
    "    # 6. Join the words back into one string separated by space, \n",
    "    # and return the result.\n",
    "    if index1 == index2:\n",
    "        if index1 >= len(words):\n",
    "            return words[len(words)-1]\n",
    "        return words[index1]\n",
    "    else:\n",
    "        temp = words[index1:index2]\n",
    "        return( \" \".join( temp )) "
   ]
  },
  {
   "cell_type": "code",
   "execution_count": 34,
   "metadata": {},
   "outputs": [
    {
     "name": "stdout",
     "output_type": "stream",
     "text": [
      "[':)', \"can't\", 'hopefully', 'make', 'successful', 'tough', 'stresses me', 'have', 'superbowl', \"ain't\", 'not with', 'just', ';)', 'didnt', 'shes', 'release', 'maybe', 'delisting', 'good', 'fantastic', 'left', 'miss the rematch', 'game', 'up!', 'turn your back on', 'so', 'dreams and', 'means', 'act', 'was a win for me.', 'too much', \"can't\", 'big ass get on my', 'not so', 'omg', 'good', 'not', 'thank', \"candy....wasn't even the good\", 'warning', 'better', 'missing', 'perf', 'great', 'plenty', 'plenty of room. pretty fired', 'plenty of ups &', 'hope', 'nooooooooo', \"can't\", \":'(\", 'may need', 'fave', 'sweet.', 'good', \"may have a heart attack for jason wu's new\", 'correctly', 'amazing concert', 'hope to see you there', 'lmfao', 'good', 'well known', 'overhaul:', 'damn', 'shit', 'fails', 'divides', 'moving', '#untouchable no', 'hopefully', 'pumped', 'eased', 'pushed', 'managed to', \"doesn't\", 'hopefully', 'decent', 'available', 'great', 'hate the', 'just', 'just', 'fine', ':)', 'fucking', 'happens to be', 'likely', 'hell yea', '(;', 'out', 'l.o.v.e', 'struggling', '#nojoke', 'will never get', 'really', 'happy', 'apologizes', 'error-ridden', 'apologized', 'error-ridden', 'time', 'it', 'big deal', 'love', 'wow!', ':-)', 'is', ':-/', 'without star', 'be', 'not a', 'even', 'no', 'most', 'charm', 'unique', 'happy', 'best', 'aww', ':)', 'surprise?!', 'upset', 'really', 'doing', 'have missed', 'did just', 'amazing!!!', '...loving', 'luck', 'bad', 'crazy.', 'more', 'u going', 'grave!', 'was sad saturday when i walked past where the statue should', 'thinking', 'bolt', 'may have to', 'happy', 'good', '#hilarious', 'ready', 'xddd', 'want to', 'set', 'http://t.co/nitjia5v', 'back', 'improve', 'still', 'like', 'forgotten', 'clash', 'excited!', 'no', 'aww love', 'happy to see', 'lets', 'better', \"i don't care how\", 'good', 'afford and', 'shaking my', 'be', 'not getting any', 'wish i could', 'pushed', 'more', 'uplift', 'affected', 'a good', '#cantwait', 'may', 'only', \"doesn't\", 'attractive.', 'want my leg', \"liked that, you'll\", 'more', 'very', 'of', 'bad', 'not', 'fond', 'envy', 'http://t.co/kzzor8az', 'thank', 'appreciate', 'best', 'cant', 'might', 'just', 'honesty', 'best', 'more', \"couldn't\", ':) most', 'sucking', 'rookie', 'no', '#clueless!', '#shakeshead', 'can', '#forward!', 'best', 'nooooooooo!!!!!!', 'power', \"that's my\", 'pray', 'may', 'leader', 'freedom and', 'just give', \"don't\", 'wish him', 'happy', 'yay!!', 'disgrace and a complete', 'sad', \"won't\", 'happy', 'only', 'irritating', 'terrible', 'so', 'best', 'so', 'fail', 'welcome.', 'interesting', 'yes.', 'still', 'hope', 'make', 'take', 'canceled', 'show', 'interested?', 'interesting', 'far too', '#problemsolved', 'laughed', 'best', \"don't\", 'want', 'unfortunately,', 'not', 'best of', 'bad..', 'cancelled', ':)', 'sure', 'shit,', 'pretty', 'so', 'twat..better', 'so', 'just', 'not a bad', 'wonderful', 'should have', 'blowout.', 'good', \"can't\", 'date:o)', 'liked', 'happier.', 'stand', 'it', 'ready to', 'greatest', 'damn,', \"*shouldn't*\", 'nooooooooo', '#beware', 'scariest', 'only', 'not', '(welcome', 'lol', 'hahahaha', 'smiling', 'idaho.....boring as', 'best', 'back', 'good', 'heavily', 'already...', 'and', '\"nooooooooo\"-beckett', 'happy', 'best!', 'accomplished', 'immediately', \"negros won't\", 'fun', 'blame', 'super', 'hope', 'late,', 'terrible', 'bad', 'red carpet', 'be a', 'too', 'such a good', 'were knit', 'kinda love', 'fighting', \"haven't received a residual check in\", 'no', 'okay!', 'must have', '#winning', '#heckyeah', \"can't\", 'season.', 'weird', 'hopefully', 'big', 'at', '<3', 'looking forward', \"happy valentine's day my\", 'approves', 'approved', 'wishes', 'more', 'dream,', 'excited.', 'dumb', \"it's\", 'now.', 'not', 'happy', 'enjoyed', '#thankyoutimeshifting!! have a great', 'fall', 'no', 'last', 'happy', 'loved', 'sad to', 'fantastic', 'sure', 'pull', 'so', 'have', 'my', \"don't be\", 'end up', 'may', 'no', 'lets get', 'upbeat', 'sure', 'give', 'amazing', 'disappointing', 'reassuring', 'hope', '-', 'fabulous', \"can't\", 'great\"', 'glorious', 'congratulations', 'great', 'he', 'miss', 'be', 'good', 'amazed you keep coming', 'hell', 'may be', 'missing', 'available.', 'haha', 'do', 'good', 'the best', 'more', 'ambition', 'shit is', '\"fight', 'except,', 'suspended...', \"don't\", 'just', 'consistent.', 'loving', 'or bad', 'gorgeous!', 'she is just too', 'glorious', 'only you', 'protest', 'glorious', 'feels like', 'game', 'nation-leading', 'first-ever', 'better', 'go, baby, go', 'wins', 'bashing', 'better', 'killed', 'struggled', 'may face uncertain', 'makes me', 'awol.', 'hell', 'assure', 'capable', 'good', 'whoop', 'step', '#sarcasm', 'great', 'happy', 'best', 'will be back', 'may', 'plenty', 'thanks', 'able to kick this', 'cool', 'great!!', 'cancel', 'best', 'beyond', 'only', 'nothing', '#revenge', 'honest,', 'wish you had his', 'best', 'desperation', 'good', 'experiencing some', 'be', 'best', 'to', 'qualify', 'sobbing', 'better!', 'evil', 'laugh', 'blaming', 'ignoring', 'negative', 'with', 'so far. still', 'to', 'much', 'be there signing', 'interested', 'injured,', 'fuckin up, doin', 'playin like', 'best', 'happy', \"valentine's\", 'great', 'excited to have', 'shit', 'killing', 'thanks to', 'came', 'awesome', 'cool', 'cool', 'suave', 'shit...', 'good', 'cool', \"can't\", \"can't wait to\", 'excited', 'unlike', 'i may', 'i miss that', 'never', 'lucky', 'misses', 'straight', '', 'just', 'celebrate', 'not happen', 'disappeared....but', 'overhaul:', 'doubt', 'problem.', 'created', 'exhausted', 'studying', \"wouldn't\", 'still.', 'only', 'not really', 'injury', 'best', '1st in the race...', 'better', 'too late for', 'warns,', 'hahaha!!', 'good', 'xx', 'good', 'i am so freaking', 'bound tomorrow!', 'biggest', 'not', 'not', 'not', 'stop', \"doesn't\", 'wins:', 'awesome', 'excited', 'hope', 'glorious', 'congratulations', 'easy', 'just', 'cute', \"can't\", 'alright no one can', 'safe and', 'not', 'available', 'tomorrow;)', 'nooooooooo.', 'so', 'damn', 'perfect', 'tomorrow our opportunity to love', 'the greatest', 'never', 'would be so', 'nooooooooo', 'failed', 'test', 'lol', 'miss you', 'never', 'to', 'be', 'ok!', 'ok!', \"i'm not gon\", \"doesn't disappear\", 'full of joy and happiness! happy', ':)', 'only', \"should'nt\", 'a good', 'at', 'may', 'wont', 'defeated', 'less', 'wtf?', 'interested', \"wish they'd make another\", 'game...no', 'how', 'only', 'look forward', 'looks really', 'not sure wooooo', ':)', 'shame', 'just', 'sore', 'worth', '. .', '#rays!', '#rays!', 'worried', 'cannot', 'can', 'might', \"isn't for\", 'losing', 'so', \"don't\", 'no', 'nice', 'love', 'will not be able', 'may not', 'on...dammit.', 'incredible', \"don't\", 'meet', 'royal', 'congratulations', 'good', '#excitingtimes', 'bootfuck', 'highlight', 'hilarious', 'highlight', 'real', 'no', \"i'm\", 'happy', 'not', 'thanks', 'for', 'a good', 'so', 'choice', 'hired,', 'fired', 'hiring?', 'sweetest', 'badly', 'well', 'good', 'error-ridden', 'interesting', 'love', 'force', 'congratulations', 'happy', ':d', ':))', 'death.', 'worst', 'is going to', 'well', 'sorry', 'fun-filled', 'so proud', 'upset', 'great', 'delighted! what a', '#positivetroll', 'intelligent', 'mindfulness?', 'glorious', 'congratulations to', 'set the bar very', 'grossly', 'unnecessarily', 'tweak', 'tweak', \"can't\", 'grilled', 'loss', 'havent', 'dont', 'little', 'max!', 'rock', 'best', 'best', 'good', 'well-observed', 'fearsomely', 'absolute', 'rumours', 'interested', 'bitch', 'may not', 'happy', 'exhausted.', 'accidentally', 'support', '\"punishment\".!', 'great', 'so', '#confused', 'loved', 'too', 'only', 'may', 'broken', 'see!', '#loveher', 'little', 'bad', 'safe and', 'good', 'can', 'be a let', 'beating', 'cant', 'so', 'see', 'hoping', 'lol.', 'first real', 'apologizes', 'error-ridden', 'apologized', 'utterly', 'congrats', 'cheering.', 'thank', 'win...', 'disaster...', ':)', 'isnt', \"he'll get it\", 'bless', 'sooo', 'wins', 'quite', 'successful', 'awesome', 'get a', 'on', 'be', 'so', 'make', 'i just made', 'keep it', 'need', 'wrong', \"can't\", 'better', 'pardoned', 'wins', 'ridiculously adorable', 'gorgeous', 'enjoyed', 'brilliant...simply', 'glad', 'never', 'hilarious', \":) can't\", 'cant', 'best', 'beat', ':)', 'just as', 'pray', \"we'll get\", 'no android device worth', 'especially not the galaxy s', 'bad', '#istillloveeastview', 'some', 'down to', 'won', 'fuck', 'fuck', 'you big', 'nice', 'the', 'funny funny shit', 'tired', 'not', 'fucking hate', '<3', 'worried', 'more', 'perfect', 'great', 'made', 'perfect!', 'terrif', 'well', 'love', 'good', 'slut', \"can't\", 'bam!', ';-)', 'biggest', 'beats', 'advance', 'good', '<3', 'best', 'awesome', 'cool,', 'great', 'help', 'hate', 'love', 'thanks,', 'great', ':)', 'deals', \"can't\", 'great', 'greatest', 'injuries', 'hurting', \"haven't\", 'twat', '\"no', 'missing', 'may', 'robbed', 'forgotten', 'chance', '..boy oh', \"doesn't\", 'love being', 'great', 'http://t.co/h5jg0l4e', 'apologizes', 'appreciating', 'bad', 'ugly.', 'happy', 'pull out his gat and shoot', 'refuse', 'admit', 'cried', 'shall', 'assault', 'tough', 'not', 'like', 'cannot', 'funny', 'over and over and', 'where did it all go', '#ashamed', 'hate', 'over', 'hahaha', 'wow', \"'low'\", 'best', 'smiling', 'violated', 'factual', 'optimistic', 'ever.', 'amazing.', 'bad', \"isn't\", 'me', 'hmmmm.', '5-star', 'happy', 'against', 'unwatched', 'best', 'better', 'how', 'potential', 'too', 'excited', 'lol', \"can't\", 'another', 'good', 'great', 'congratulate', 'great', 'looking', 'suck my dick', 'hot!!', 'win', 'good', 'speculation', 'lol', 'no', \"won't\", \"can't\", ':)', 'hip hip', 'support', 'year', 'replace', 'holiday', 'may', ':-)', 'crazy', 'die!', 'haha', 'odd', \"i don't\", 'buzz', 'decent i', 'not', 'too many', 'when', 'not looking', 'still', \"didn't\", 'happy', 'enjoy', 'pioneering', 'just', 'annoy', 'forced', 'happy', 'support', 'generous.', '\"desperation', 'awesome', 'just', \"can't\", 'best', \"i can't do\", 'love', 'cant', 'fun', 'tired', \"haven't done\", 'on', 'ruined', 'buck', 'absolutely', 'best', \":')\", 'really', \"don't\", 'love', 'amazing', 'best', 'productive', 'not', 'soooo many', 'great', 'struggling a', 'very', 'missed', 'love', 'fears', \"haven't\", 'excited', 'going to', 'nooooooooo', 'much', 'may be', 'more', 'terrible', \"don't give a shit about\", 'may pose a', 'hahaha!', 'tonight!!!', 'best', 'bad', 'broken', 'happy', 'good', 'looking', 'good', '#cantwait', 'shut', 'hopefully', 'good', \"thought we'd never see the\", 'really good.', 'excited', 'greatest', 'hope', 'safe', 'good', 'sunday!', 'soo', 'sounds like it will be', 'no reason to', 'it was worth', 'badass', \"you won't regret\", 'best', ':)', \"he didn't\", 'kids deserve', 'fuck', 'happy', 'long', ':)', 'so', 'true', 'open', 'fuck', 'honored', 'achievement', 'best', '#hilarious', 'sickened', 'miss', 'love', 'you make me', 'not gonna', 'anniversary!(:', '\"happy', 'kickin it in', '#fuckyes', 'tomorrow..sorry.\"', 'love', '#lovethem', 'sunday...revenge,', 'destroyed', \"we'll keep\", 'fears', 'love', \"can't\", 'gearing', 'encouragement', 'can', \"don't\", 'still', 'definitely showing my', 'breaking a', 'destruction', 'going to', 'nice', 'nice', 'criticism', 'best', '#ignorance', 'may', 'reasons', 'frustration', 'so', 'say happy', 'good', \"hasn't\", 'damn', 'hate', 'poor', 'fine.', \"isnt'\", 'sorry', 'is not a revenge', 'does not make up', 'on', \"'good\", 'excited', 'good', 'haters', 'absence', 'good-humored', 'good', 'hurt', 'better not be', 'was', 'not', 'welcomes', 'might', \"can't\", '\"happy', 'not', 'nice', \"don't\", 'happy', \"don't\", 'good', 'celebrate', 'convicted', 'murder', 'never', 'massage', 'wacky', 'nervous?', 'didnt', \"i don't\", 'hit too', 'may', '#letmeloveyou', 'cant', \"what's\", 'being', 'chance', 'good', 'helped', 'favorite', 'great', 'lololololololol', 'good', 'want', 'no', 'best!', 'yeah!', 'i would most like to', \"don't miss the company of fools performance of the woman in\", \"i'll die #missherlots #itsbeentolong\", 'happy', 'arrogant!', 'great', 'card...should', 'cant', ':(', 'fuck', \"don't\", 'we', 'gotham', 'and', 'finest', 'should be', 'played', 'be', 'nananana nanana na hey hey hey good', 'aint safe', \"xo can't wait for november 11.\", 'well', 'awesome', 'great', 'thank', 'better', ';)', 'wish', 'more', 'loved', 'cry', 'sucks\".', 'not like', \"doesn't get much\", 'lin..so', 'safe and', '11th...hoping', 'quickly', 'love', 'acceptable', 'not an', 'are', \"sorry i can't make\", \"ain't\", 'great', 'cuss me', 'lol', \"'extremely\", 'problems', 'cant', 'ignorant', 'excited', 'got tired', 'best', 'not', '#thegreatest', 'moving', '#excited', 'bring it', 'good', '#goodmood', 'we', 'still', 'treats!', 'too', \"can't be\", 'it.....oh', 'feeling.', 'goes', 'in', 'qbr', ';)', 'might', 'smack', 'hahahaha', 'unhappy', 'hate', 'very', 'betrayal', 'his', 'should be', 'wicked.', 'may or may', 'good', 'wish you very', 'love,', 'mutual', 'hot!', 'dont want', 'end', 'best', 'are you down. go', '(remember that)', 'just', 'looking', 'do not want extra time', 'good', 'to venture', 'optimist', \"doesn't like kasabian very\", 'crashed', 'lucky...', 'well', 'enjoying', 'celebrate/mock', 'love', 'like', 'proactive', 'this', 'truth', 'wanna', 'so', \"what'a joke they\", 'great', '#ciscos..win', 'happy', 'dispute', 'warned', 'risks', 'commits his 1st', '2 missed fts, a', 'a', 'guess', 'even', 'i the only one that', 'fairly', 'more', 'just', 'out', 'not', 'wont', 'top', 'even', 'wants to see', 'loved her so', 'most', 'won', 'big', 'accepted', 'madness', 'hope to', 'congrats', 'yay:d', 'guilt', 'punished', 'will', 'crushed', '#obamafailed', 'may', 'forget', '#celebratetherightholiday', 'good year! mega', 'beats', 'little', 'miss', 'wow!!!', 'thanks', 'assassinated', \"i'm so\", 'stoked', 'top', 'left', 'shit', \"won't\", 'thanks', 'serious sucking', 'excited', 'fl', 'luck', '#classic', \"'no\", \"you're more than welcome to stop\", ':d', 'greatest', 'looking', 'and', \"luke's\", 'enjoyed', \"don't\", 'going to be good', 'enjoy', '#7thingsaboutmybestfriend', 'really', 'denies', 'recognized', 'one of the 1st', 'team', '1st', 'that says it', 'brain is', \"won't turn\", 'need shock', 'cool', 'missing', 'can', 'beauty', 'exceptional', 'love.', 'picks', '4th foul, all he does is turn it over!!!! pistons are hot', 'never', 'glorious', 'congratulations', 'for', 'arrest', 'awesome', 'being more', 'absconding', 'gets', 'good', 'stripped', 'desperation', 'awesome', 'adding', 'where are these guys all going to fit', 'not', 'lost', 'better', \"can't\", 'see', 'is the', \"that's\", '#howtopissagirloff', 'good', 'progress', 'haha!', 'welcome', 'first', \"can't.stop.listening.\", \"don't\", 'fuck about your faggot ass', \"can't\", 'winner.', 'doubt', 'bad', ':(', 'cool!!!', 'hold out', 'may', 'great', 'love', 'doesnt', 'perfectly', 'whores', 'is a joke only. forever', 'enjoying', 'desperate!', 'celebration', 'a lot', 'surprise', 'cancelled.', \"can't\", 'that', 'gains', 'sagged', 'laughing', 'not', '#sorrynotsorry', 'pains', 'still', 'love', 'crazy', 'leaves a lot to be', 'biggest', 'forget', 'want', 'love', 'rally,,,pretty', 'a great', 'want to give', 'slowed', 'killed', 'enjoy', 'great', 'got better', 'joke', 'bitch', 'niggas....where the', '#sexysoulsinterestingpics', 'love', '#loveit', 'worth', 'fractured', 'thank', \"don't\", ':(', 'too', 'wicked.', 'may or may', 'excited', 'haha', 'soon,', \"she...couldn't have been more\", 'rock', '2nd-best', 'my day is complete!!!! oh how i love my', 'safe and', 'thrilled and', ':d', 'awwww', 'mmhmm', \"couldn't make\", 'you would', 'mouldy', 'shitey', 'happy', '\"desperation', 'magical', 'depraved', 'best', \"glad he's\", 'doing', 'clean', 'enjoying', 'love', 'soon!', 'highest', \"can't\", \"haven't\", 'your', 'support!...', 'may not be that good', 'sure as hell', 'crying', 'unrealistic.', 'better-storyline,', 'thumbs', 'cant', \"don't\", 'suck', 'favourite', 'please make this', 'love that', \"can't\", 'too', 'overrated', \"don't see\", 'just', 'right,', \"aren't you\", 'anniversary.', 'weakness,', 'injury', '#cebufinest', 'hope', 'wishes', 'happy', \"valentine's\", 'sure', 'brilliant', 'funny', 'die', '\"great', 'has', 'desperation', 'tf made that shit', 'rough.', 'wow', 'amazing', 'do this for you we love', '\"no', 'possible,', 'weaker', ':)', 'excited', 'make my', 'score', 'wow', 'only', 'go', 'worst', 'plus/minus', 'soft,', 'matches', 'bullshit', 'ahaha', 'count', 'enjoy ur night love you', 'affectionate', 'dead', 'something', 'wherever', 'excited is not the', \"honestly can't\", 'only', 'always', \"suffering from 'policy\", 'best', 'to host', \"haven't\", 'permanently', 'cant', 'happy girl', 'bustin', 'bad', 'best', 'okay,', 'worth', 'delays', 'so damn bad', 'not', 'ahhhhh', 'may', 'out', 'better...', \"i don't\", 'will forgive', 'excited', 'shit..', 'liked', 'badly', 'disorientating', 'best', ':)', 'sorry', 'death', 'peace.', \"won't want to miss\", 'easy', 'hey!', 'a year.', 'someday', 'totally', 'loss,', 'winning', 'how', 'warned', 'risked', 'excited', 'an', 'fall more and more in', 'deserves', 'no', 'has made me tres', \"don't miss\", '\"super', 'gonna be', 'happy', 'so', 'love', 'delays', 'shit', \"can't\", 'hope', 'wrong!', 'going to', 'not right', 'just', 'better', 'too', 'hit', 'worse', 'classic', 'good', 'ignorant and', \"certainly wouldn't be\", 'no', \"couldn't\", 'worried', 'unable', 'awesome.', 'embarrassed', \"don't\", \"don't\", 'shit', 'are going in on', 'missed', 'go', 'hoping for a', 'love', 'have', 'so', 'demolish', 'sorry', \"didn't.\", 'top spot.', 'blessed', 'never be', \"can't\", 'love', 'may', 'growth:', \"won't pay off,\", 'make', 'love', 'useful!!', 'lovely', 'may', 'found', 'may have', 'are', 'just', 'a good day,', 'i', 'happy!:-)', \"don't miss\", 'loss', 'honouring', 'unconditionally.', 'win at', 'should', 'glad', 'great', 'smart', 'whooped', 'ass', 'best', 'excited', 'nice', 'homie', 'better', \"wasn't going to\", \"does'nt\", 'well.still', \"ppl don't hv ideas except make bombs killem\", 'happy', 'cooler and', 'love', 'hope', 'supporting', 'so', 'so', 'hard', 'wicked', 'better', 'want', 'sick', 'wasted our', 'better', 'kinda', 'missed', 'love', 'cancelled..what?', 'ready', 'have', 'best', 'loved', \"couldn't\", 'welcome', 'world war', 'greatest', 'acknowledged', 'proud', 'honour:', 'lack of', 'very', 'you', 'lots of', 'big', 'hard', 'good', 'hahahaha.', 'fastest', 'leads', 'right', 'most', 'pleased', \"that's how it should\", 'come', \"isn't\", 'pancake', '#dreamy', 'wolrd?#youjustruinedmylife', \"can't\", 'get any', 'have to hit', \"can't\", 'i', 'quit', 'leader', 'looks', \"didn't look\", 'stared...', 'more', 'superficial?', 'as a failure', 'enjoy!', 'cool', 'fav', 'big', 'just', 'riots.', 'problems.', 'wow', 'walker!!:) so', 'thank', \"haven't\", \"don't\", 'good', 'great', 'fun', '2nd most powerful', 'loved', 'amazing.', 'stick pins in', 'win', 'looks', 'great', 'excited', 'cool', 'not a big', 'all', 'respects', 'may', 'seeking', 'good', 's.o.l....maybe', 'to', 'ok', 'main', 'hopefully', 'great', 'best', ':)', 'kick', \"huge ask unless you're prepared to\", 'spoil', 'trust', 'bounce!', 'really', \"don't\", 'so', 'proud', 'hard', 'best', \";-) can't\", 'have', 'greet', 'happy', ':))))', 'ready', 'why', 'lovely', 'looking', 'great', \"honestly doesn't bother\", 'always makes my day.', 'may', 'lost', 'lots of', 'looking', 'favorite', 'not', ':-)', 'greatest', 'stop', \"haven't\", 'unamazed..', 'hyped', 'exhausted but', 'good n', \"won't make\", 'hoping', 'rise', 'better', 'poorest', 'exhausted', 'ready', 'how the', 'hardly', 'funny!', 'interresting', 'soon)', 'maybe', 'prefer', 'canceled', 'haha,', 'hardly', ':)', ':)', 'favourite', 'let the good times', ':)', 'interesting', 'fancy', 'many', 'enjoying', 'only', \"shit's\", 'zombie', 'delicious', \"everything's\", 'ty', 'making', 'ever ever ever', 'feel like', 'much better', 'so', 'botherit. not', 'on bright', 'just', 'really', \"doesn't\", 'wins', \"don't\", 'will be', 'like', 'miss you', ':)', 'knows', 'fun', ':)', 'looks...', 'enjoy', 'cool,', 'not', 'assaulting', 'amazing', '#cool', 'can', 'bring her to my', 'delicious', ':)', \"don't\", \"can't\", 'love', 'kinda', 'friendship', 'getting', 'only', 'help', 'sorry', 'unfollow', 'normal', 'mugging', \"please don't\", 'gotta hold', 'dub', 'damn', 'would', 'missed', 'awesome', 'awesome', 'truly', 'upset', 'do', 'eager', 'best', 'not', 'tears of', 'hahaha', '>:)', 'hope', 'shit', 'love', 'only', 'flop', 'was a lost', 'dig a', 'so', 'so not', 'need', 'am!!', 'fun...', 'really', 'dislike.', 'funtastic time!!!!', ';)', 'makes my blood', \"haven't been\", 'thanks!', 'avoid', 'just', 'fuck', 'were', 'brilliant!!', 'katie...happy', 'loves', 'hype', 'fuck', 'might', 'pamper', 'better', \"don't\", 'beautiful', 'great', 'no', 'good', 'damn', 'no', 'haha.', 'great', 'hope', 'i love', \"can't\", 'good', 'right-if', 'great', 'great', 'impress-you', 'win in', 'havnt', 'undecided....', 'off!', 'excited', 'win', 'rip', 'helped paved the', 'hope', \"can't fuck with\", 'makes this', 'already', 'smash', 'cool', 'not the', 'brink', 'default', 'scolding hot', 'crotchal', 'enjoying', 'congrats', 'victorious', 'fine', 'very', 'want to', 'so fucking', 'yoohoo how cool is', 'perfect', 'really', 'very', \"i'm going to watch it,\", 'hot', \"isn't\", 'see', 'best', 'thank', 'may well be too', 'protests?', 'not', \"won't\", \"i'd rather play than\", 'get punched in the fuckin', 'on my heart so', 'excellent.', 'that', 'had the chance', 'happy', 'enjoy', 'wish you many more', 'dont', 'shit', 'thanks', 'hope you have a super', 'great', \"hope it's stupid\", '#poorcustomerservice', 'good', 'one.', 'good', 'pumped', 'thanks', 'very interesting', 'surprises', 'funny,', \"didn't even\", 'little too', 'pretty bad', 'her', 'alright,', 'win', 'party party,laugh,dance and go', 'well', 'have', 'too', 'just', 'hope', \"can't\", 'struck', 'postponed.', 'lets do', 'joke', 'suffering', \"paralysis',\", 'charged', 'it was dope', 'most', 'i may just have to go see this', 'hope. i love your', 'happy', 'miss', 'love,', 'love', '@bestueverchad', \"why'd\", 'shut this bitch', 'may', 'chances', 'admire', 'that', 'bless', \"i can't\", 'you were', 'will be even', ':)', \"don't want\", \"i'll never\", 'enjoying', \"sucker's\", 'broken', 'sleep,full', 'sweet', 'quiet', 'bad,', 'interesting', 'won', ';-)', 'crying', 'stare*', 'happy', 'mighty', 'excited', 'love', 'dont want to', 'excited', \"can't\", 'no-nonsense', 'hope', 'funny', 'beautiful', 'great', 'real', 'horrible', 'injury.', 'crowds,', 'weather!', 'regret', 'fuck.', 'miss', 'they got', 'we can still', 'lets', 'lead', 'dont really know what is', 'ready to', 'sexy!,', 'fun,', 'entertaining', 'wins', 'right', 'the', 'classy', 'excited', 'devil', 'bumped', ':o', 'missed', 'buzzed', '#fuckyouviagogo', 'good enough to', 'best one', 'so', 'why', '\"shut', 'i', 'always', 'bad', 'love', 'obsessive.', 'just', 'pretty', \"they didn't\", 'loves', 'wish u', ':)', \"how far they've\", 'smash', 'optimism:', 'great', 'yeay..hopefully', \"tuesday...can't\", \"can't\", \"ain't done\", 'omg', 'breakthrough', 'have', ':)', 'ready!!!', \"wouldn't\", 'not', 'funny', 'highest', 'cheer', \"i'm sure he will be smart\", 'agreed\",', 'better', 'sweet', 'may be', 'hazardous', 'suck', 'like', 'just', 'hideous', 'dont', \"don't\", ':)', '\"oh no,', 'great', 'kind of', 'disappointed', 'canceled', 'hyped', 'accepted', 'never', 'never stop', 'lifetime', ':)', 'myth.', 'just made my thursday', 'device.', 'mtgo', 'hot and', 'jam', 'no', '#soundsgood', 'dont', 'congrats', 'proud', \"can't\", 'surprised', 'shambles', 'is', 'excited', 'not', 'good', 'hope', 'lovely', 'it', 'be returned.', '', 'like', 'awesome', 'careless', 'fuck,', 'best', 'kill it', 'looks sick! excited to', 'my', 'glad', 'sweet', 'yum', 'you', 'just have to', 'still got', 'need', 'cover?', 'upset', 'shits', 'may', 'headache', \"don't\", 'a good', 'haha!', \"we'll\", 'fuck', 'bang!', 'weird', \"didn't\", 'sad', 'too', 'cannot', 'we', 'only', 'want sunday to come', 'yes yes yes.', 'shit', 'crazzzzyy', 'lol', 'well', 'best', 'favorite', 'going to be a', 'okay', \"saturday...you're\", 'a', 'won', 'no', 'divided', 'love', 'big', 'surprise', 'to', 'big', 'made an awesome king', 'worst darn thing', 'dont', 'love', 'super', 'hit this', 'put', 'absolutely heart', 'love', 'sounds', 'thankfully', 'best', 'most', 'were', \"aren't!!\", \"haven't been\", 'surprisingly,', 'yes,', '#fuck', 'so', 'a bit', 'compensate.', 'one of the', 'dont fuck with', 'wish', 'funday', 'good but not better', 'worried', 'concerned', \"don't\", 'beautiful', 'a', 'beauty', 'good!', 'really', 'safe', 'in a good', 'best', 'fun', 'sweet', 'only', 'best', 'tomorrow:d', 'love you', '#blownaway', 'amazing,', 'gorgeous,', 'so', 'best team', 'i may not liked', 'he never harmed', 'favorite', 'interested!', 'perfect', 'good', 'hardest', 'so', 'hoping', 'bored', \"i'd\", 'lifting', 'no', 'best', 'no', 'dont wanna', 'hilarious', ':d', 'big', 'better', \"won't...\", 'bad', 'lost', 'cut to', 'start...how awesome is', 'good', 'looking forward to', 'really think @coltonsmithmma has the contract in the', 'fall', 'interesting', 'lol', 'need', 'spent too', 'sucks', 'haha.', 'beautiful,just', 'not', 'not the wisest', 'gonna smash', 'wth..', 'most', 'support', \"hopefully he's\", 'was', 'winning', 'a lot going', 'delayed', 'same', 'funny', ':)', 'deep all the way', 'good', 'want', 'how', 'hate', 'was v', 'so', 'all', 'with', 'your', 'wanna', 'yes!', 'be', 'but not good', '#sick', 'sin as much as you', 'funny', 'hope to', 'amazing', 'may', 'funny', 'hard to', 'thanks', 'should', 'failed', 'bless', 'atrocious.', 'good', 'super trippy.', 'better.', \"can't\", 'quality', '#sadtweet', '#sad', 'struggle', 'happy', 'mwahahaha!', 'just as', 'really', 'would be', 'get', 'releases', 'normal?', 'good', 'win', 'not', 'no', 'precious', 'live', 'she may be there for the', 'always', 'irrelevant', 'murdered', 'saved', 'loved', 'very', 'happy', 'tired', 'thanks to an', 'tough', 'but', 'up', 'not', 'harder', 'stole', 'think', 'celebrate', 'happy', 'the', 'laughter!', 'good', 'more than just a', 'can do it', 'biggest', 'excited', 'queasy', 'not', '#notokay', 'why is my mind doing this to', 'sad', 'dies', 'honor', '$3', 'food', 'tribute', 'nicest', \"still didn't do\", \"doesn't\", 'death', 'fair,', 'winner.', 'is starting to feel like the \"casual friday\" of religions!', 'would be', 'fail', 'juiciest and', 'love', 'gentle', 'no no no,', 'rallies to', 'surprise', 'great', 'wish', 'stupid', 'got kicked', 'happy', '#cutiepies', \"it's a pretty\", 'down..niggas', 'concords...lmao', 'ignored', 'to', 'kill', 'his view on', 'worst.', 'did', \"can't\", 'love', \"haven't\", ':)', 'truly a', 'rightfully', 'nearing', 'determined', 'jailed', 'controversy', 'love', 'wish', 'all too', 'ridiculous!', 'hard to figure', 'i', \"haha. <3 can't\", 'excellent.', 'enjoy', ':)', 'screwed', \"aren't\", '#richkidproblems', \"don't miss\", 'still', 'possibly the', 'given', 'better', 'surprised', 'hero,', 'hopefully the', \"didn't\", '\"like\"', 'can dig', 'great', \"can't\", \"didn't\", 'omfg', 'much', 'disappointed', 'game', 'canceled', 'hyped', 'hard', 'hope', 'continue', 'welcome.', \"it's not too much of a\", 'enjoyed', \"can't\", 'no', 'cheering', 'hot.', 'love', 'big', 'blurry', 'hottest', \"can't\", 'just', 'may not', 'love my', 'excited?', 'possible.', 'request', 'curious,', 'respect.', 'likes', 'enough', 'devastating.', 'hopefully', 'postive', 'lol', 'ahhhh,', 'irony,', 'wonderful, but', 'took her', 'open', 'sort', 'luckily', 'go celtics!!!!', 'good', 'better', 'alright.', '1st', 'better.', 'have enough', 'playful', 'open.', 'crisis:', 'loving it may i add.', 'wish', 'still', 'enjoy', 'just', 'a lot', 'brilliant', 'intuitive, insightful,', 'the', 'just', 'see you tomorrow', 'horrible', 'cannot', \"ain't\", 'a lot', 'always', 'looks', 'stop', \"aren't\", 'sick', '(sorry)', 'no', 'remain at the top of the', 'allowed to slip up', 'just', 'never', 'be the', 'hope you do', 'oh', 'good', 'wish', 'could', 'just', 'like', 'it!#bestgiftx', 'epic.', 'hate', 'surprisingly,', 'romantic', 'good', 'win', ':-)', 'throwing this', 'to', 'pretty much', 'may want to', 'happy', 'cried', 'love dat', 'woot', 'shit..', \"can't\", '#fun', 'could', 'best', 'would love', 'gonna go', 'happy', 'won', 'thanks', 'gonna get', ':(', 'best', ':) so', 'not', 'deceptive', 'fun', 'little bit of', '#fun', \"don't\", 'excuse', 'lol', 'may', 'sound like a', 'good,', '#snogood!', 'considering', 'have not', 'do', 'raped', '#justkidding', 'could have', 'even better', 'gorgeous', ':)', 'exciting', 'there', 'up', 'lost', 'nowhere', 'losing', '#boring', 'newest', 'love my', 'frayed in many', 'extremely', 'looking', 'to see', 'gruesome', 'may', 'makes me feel so', 'ready to', 'happy', 'injured', 'unofficially', 'seem', 'too', \"can't\", 'thank', 'fake', 'very very', 'ruin!', 'christmas shopping', 'oh you fancy', 'hope', 'beautiful', 'celebrated', 'glad', 'best', 'idiot', 'aimed', 'totally', '2nd', 'wrong', 'girl', 'her', 'error', 'lot', 'lost', \"can't wait to see/hear\", 'mcknight.....never', 'after...', 'most', 'agreed.', ':d', 'punishing', '#damnyou', 'dont', 'looking', 'excited is not the word.\" frustrated is the right', \"if i'm\", 'well, in my dreams', 'much', 'hyping', 'funny', 'liked', 'fucked', 'holy', 'wow', 'lost', 'reason', 'to', 'may', 'thank', 'may not have', 'doing a fine', 'attack', 'best', '#makeithappen', 'salute', 'free.edom taken', 'really', 'support', 'how much i', 'we just beat', 'won', \"don't\", 'may', 'wanna see how it', 'accomplished', 'hope to see lots of happy', 'fun', 'bitch.', '\"good', 'well\"', 'great', 'can not', 'the', 'kill', 'happy', 'try not to', 'excited', ':)', 'cry all', 'biggest', 'shaving his', 'cheap shot', 'fuck', 'big', 'be to', 'beyond', ':)', 'better', 'amazing &', 'hope', 'love', \"can't\", \"can't\", 'lol', 'hell', 'so', 'nooooo', 'awkward', 'good', 'super', 'favourite', 'why wait', 'cheering', \"don't\", \"don't have to\", 'hope', '#hopeful', 'not', '#nicesurprise', 'not', 'woohoo!', 'sorry', 'not', 'a load of', 'is scary', 'mad', '#boilingmad', 'sustain for', 'congrats', 'looking', 'in', ':)', 'good', 'stupid', \"don't let me catch your\", 'may not', 'freaking', 'dammit!!!', 'good', 'so', 'just thanking', 'love', 'you probably', 'call me', 'hope', 'deserve', 'support', 'thanks', 'nummies...very much', 'glad', 'sunday..thanks', 'can', 'favorite', ':)', 'cant', 'might just', 'so', 'may even get to', \"no way it'll be\", 'still pumped for', 'serious', 'needed', 'wish', \"ha ha yeah you're\", 'next sure thing!', 'lost', 'is shit', \"won't\", 'sorry', 'win', 'never had a good', 'may help guarantee', 'false', 'coming back', \"don't\", 'not', 'damn', 'had the', 'have', 'the best rapper', 'sadly,', 'might', 'thanks fa the', ';)', 'the best show', 'never', 'a perfect', 'delicate', 'exciting', '=)', 'please', \"can't wait for\", 'so', 'i', 'lol love you so', 'enough', 'amazing', 'not', 'happy', \"wouldn't\", 'regretted', 'outlandish', 'come', 'gay...', 'nice', 'nice', 'became just another', 'love', 'no', 'still', 'perfect', 'this made my', 'a new', 'not', 'looking', 'more', 'fans,', 'pride', 'not', 'thanks', 'excited', 'may', 'sorry', \"couldn't\", 'hope', 'like', 'love you so', \"wasn't good\", 'won', 'ok', 'well', 'believe', \"i don't like\", 'hate', \"don't\", 'be forever', ':)', 'love', ':)', 'beautiful', 'excited!', 'crowded\"', 'hope', 'looking for some free', 'so', 'much', 'love', ':)', \"can't\", \"gonna be freakin'\", 'just', 'criminally', 'love is worth', 'always', 'congrats', 'can', 'always delighted to', 'without', 'lots of', 'safe', 'a', 'haha', 'may', 'i just want', 'hopefully', 'better', \"it'll be just as good,\", 'worries', 'awesome', 'important', 'congrats', 'so', 'make', 'missed', 'lol', 'really', 'an exciting', 'fantastic', \"don't expect a decent\", 'strong', 'perfect', 'great', 'pleasure', 'interest', 'love this', \"favorites for sure. can't\", 'the', 'interesting:', 'drunk', 'wish', 'my', 'friend.', 'super', 'support', 'miss', 'miss', 'almost', 'would love to', 'get', \"isn't\", 'is', 'a ball', 'going to', 'big day', 'exciting', 'good', 'i hate', 'busy', ':(', 'hard', 'good', 'excited', 'perfect', \"can't\", 'red', 'love', 'no', '#winningmentality', 'fuk w', ':)', ',,love ,adore', 'enjoy', 'go', 'glad', 'hopefully', 'not', 'even', 'amazing cast', 'valid', 'get', 'may not want', 'support', 'just naturally tht', 'should be', 'looking', 'it out!', 'a', 'looks', 'careful', \"you'll be\", 'way', 'squeeing', 'top 5 games', 'genius.', 'killed', \"don't give a\", 'incredibly', 'happy', 'i am so', 'good', 'thanks for', 'excited', ':)', 'this one is', \"'almost\", 'tough', 'surprising', 'wishing him', 'totally', 'ace', '#justkidding', 'thanks to my', 'excited', 'fine', 'your pretty face', 'like', 'may', 'comfortable.', \"don't\", 'goodnight!', 'more!!!', 'bday.....oh', 'you may be interested', 'thanksgiving', \"can't wait to\", 'that sounds about', \"doesn't\", 'fucked.', 'hope', 'oh..just', 'wood..not a good', 'like', 'looked marvellous.', 'excited', 'thanks for the kind', 'very nice,', '#goodtimes', 'love', 'great,', 'i love that', \"can't\", \"isn't\", 'lost', 'good', 'brilliant', 'love', \"c'mon you\", 'so', 'still', 'surprise', 'shock', 'temper get the best of', 'knocked herself', 'all emotional &', 'looking', 'inspiring', 'probably', 'really', 'really cute', 'it may become a', '(:', 'hoping', 'just', \"don't\", 'win.', 'noooooo', 'can', 'thanks', 'boring', 'very very', 'stop', 'on...', 'good', 'welcome', 'hope', 'entertainment!!!', 'like', 'really', 'him', '5th', \"haven't\", 'fuck', 'thanks', 'beautiful', 'not', 'so', \"didn't say\", 'hate to', 'your', 'gonna see his beautiful', 'perfect', 'successful', 'bullshit.', 'what an absolute', ':d', ':d', '-.-', 'enjoy', 'best', 'fantastic', 'good', 'probably taste', 'stolen.', \"it's power\", 'fun', \"haven't been\", 'most', 'haha', 'most', 'heartbreaking', 'i love', 'dying to', \"won't\", 'awesome', 'got sensitive as', 'better', 'cooler-than-normal', 'never', 'cancelled', 'stroke of', 'the mighty have fallen.', 'okay', \"hell day. can't\", 'thanks', 'thanks!', 'praises', 'improvements', 'celebrated', 'just won the carling', 'happiest day of my', 'so', 'had a', 'interests', 'the drama was good!', 'happy', 'struggles', 'come', 'disappearance...a', 'miss!', 'first is', '2nd is', 'like a good', 'super', 'love', 'has been very', 'happy', 'in', 'looking', 'forward', 'guys!', 'love', \"sorry about that. don't\", ':(', 'has to be', ':)', 'watch', 'may', 'yes,', \"didn't even\", 'love', 'unhappiness', '27.great', 'wonderful', 'one of the best', 'sadly,', ':)', 'you', '1st', 'shine', 'bad as', 'good', 'truck...hopefully', 'give', 'lmao......hope your enjoying the sun! love you so much', 'lol', 'would', 'i still', 'dedication', 'thursday!', 'nice to', 'best', 'no', 'honestly,', 'biggest', 'yes!+', 'one of the best', 'should, it is fucking', 'nice', ':)', 'beautiful', 'would', 'delicious', 'so far so', 'support', 'people talkin shit', 'me see you', 'cry with', 'congrats!!!', 'go patriots!!!', 'good', 'in the best shap of his', 'ready to take', 'great', 'fun and enjoy the', 'nice wine bottle', 'stop', 'for', 'just', 'may', 'face', 'offences', 'lost', 'may', 'darn well', 'supporting', \"i'm\", 'baring a lot of', \"you don't have a\", 'damaged', \"haven't\", 'loudest', 'such a great', 'celebrating!', 'more', 'fantastic', \"can't\", 'very', 'got better, brighter and', \"don't miss\", 'just', ';)', 'all the', \"doesn't\", 'tomorrow....not', \"can't\", 'i love', 'hope!', '#stressfree', 'so', 'kinda', \"isn't\", 'bad', 'good to', 'hope', 'love', 'especially', 'happy', 'all for the', 'i', 'lukewarm.', 'really', 'drood is', 'smarty', 'not at', '#dumbass', 'stupidest animated', 'wasted a', 'friday!', 'happy', 'so into this', 'i may be in', 'will not be', 'barely', \"'fuck\", 'looking forward to', 'only', 'fuck', 'great', \"don't have\", 'lol i feel', 'fuck', 'good', 'cheering', 'hope you are', 'better', 'congrats', 'winning', 'good', 'hope that you have a fabulous', 'perfect', ':))', 'wanted to', 'ooooh', 'stuck up in the', 'wussup.lol', 'hope', 'we are not out, we are', 'fight has just', 'i like to', 'perfect', 'could', 'good', 'super', 'come on', '#excited', \"didn't\", 'good', 'did', '(;', 'shit.', 'no, just', \"can't\", 'ok, i may pass out', 'rocking', 'hope everything will be', 'luck be with', 'good', 'favorite', 'jacket..so not me but so', \"don't\", 'the hottest open', 'the hottest', \"you don't want to be left\", 'great', 'so', 'it was fun as', 'always', 'haha', 'difficult', \"crack.''\", 'way', 'good', 'voice your', 'come', 'superstitious', 'highlight', 'what a', 'best', '#loveyou', 'looking up', 'win', 'my 1st', 'cool,', \"don't\", 'mauled', 'tomorrow.:)', 'delicious warm', 'whipped', \"hurry up!! i'm so\", 'comfortable', 'we done', \"can't\", \"isn't\", 'bright', ':p', 'delicious', 'look', 'may be', 'by applause', 'on.', 'so', 'a much', 'even more', 'get a lucky', \"wouldn't be\", 'win', 'too much', 'dont', 'havent', 'can not fucking', 'will never be the', 'exciting', 'love to', 'will be', 'fuck', 'your', 'would', \"don't\", 'okay', 'thanks', 'love', \"don't\", 'fuck', 'george', 'big', 'really', 'not', 'appreciate', '#godhelpme', 'not', 'just', 'i wanna cry i want to', 'i dont have money.', 'killed', 'love', ':)', 'rush!', 'we hope to see', \"won't\", 'haha.', 'i', 'days!:(', 'gladly', 'we had great set of', 'spirit', 'you', 'ready', 'clever!', 'get on', 'i may or may', 'thanks', 'perfect', 'thank', 'spoil', 'as', 'favorite', 'favour', 'could', 'blessed', '(love and', 'thank', \"can't\", 'pist', 'not', 'better', 'happiest', 'tell', 'excited!', 'gonna', 'good', 'smart', \"don't\", 'love billy crystal', \"don't\", \"don't\", 'bloody', 'be', 'hip', 'wow!!!', 'may have', '=))', 'getting me', ':)', 'cancelled', 'jeopardy', 'will be short', ':).', 'wild', 'significant', 'is it just', 'would', 'wonder', 'doable.', 'delicious', 'yummy!', 'not', \"can't\", 'confused', 'good', 'contrary to media lies, doing just', 'dont', 'wont be', 'the coolest', 'want to be related', 'best', 'is not going to', 'love', 'i', \"won't\", 'no', 'goin', 'died', 'know', \"couldn't\", 'hope', 'may', 'full of', 'so', 'excess of', \"definitely isn't\", 'trash', \"hasn't\", 'consistent,', 'never', 'congrats', \"it's\", 'die', 'happy', 'lol', 'have a great', 'fun', 'not', 'but decent', ':)', 'its always', 'rolling!!!', 'may not have been a true', 'been.', 'let', 'though', 'good', 'terrific', ':)', 'i want to be like', 'cant', \"can't\", 'debauchery', 'tough sunday', 'thank', 'may', 'like', 'bitch u shoulda came', 'sooooo much', 'lmao', 'so', \"isn't as good\", 'better', 'implications', 'http://t.co/reo0yndh', 'easiest', 'covered', 'good', '#reallystupid', \"don't\", 'nothing', 'good', 'fucked', 'lose', 'may be better than the', \"don't\", 'thanks', 'would', 'fun', 'are', 'get', 'a nice', ':))', 'fuck', 'love.', 'graze', 'ugh sooooo', 'us$50', 'good', 'special', 'is', ':)', \"hopefully i don't\", \"that's me\", 'fun', 'just', \"couldn't\", 'need', 'wanna', 'amazing', \"hope you're\", 'love', \"can't wait for\", '#thealienlife', 'cant', 'odds be ever in your', 'been so', 'disappoint', 'believe', 'almost', 'rather', 'needs', \"don't make matters\", 'trying to', 'no', 'glad', 'no', \"isn't anything to\", 'more than u', \"biggest & d'\", '#failure', 'awesome', 'congrats', 'enjoy', 'amazing', 'love this', 'victoriously', \"you won't be\", 'going to', 'no', 'stimulating &', 'hate', ':)', 'off.lol', 'interesting.', \"don't\", 'thank', 'amazing', 'tragedy', 'get', 'fashion', 'greatest', 'winner', '#greathattickfromrobbie', ':)', 'want', 'go', 'celebrating', 'celebrate', '\"delicious!!\"', 'ok,', 'love', 'sounds', 'best of', 'attacked', 'may not be the best', 'they sure are comfy and snug!! worth', 'sounds about', 'thanks', 'so', 'interesting.', 'wonderful', 'wish', 'handsome', 'may be', 'definitely', 'quite', 'not even gonna', 'still', 'deserves', 'look forward to', \"it's big time rush\", 'never', 'greatest', ',damn', 'had', 'just suggesting it for the sake of', 'rampage', 'an', 'lots of', 'big', \"don't\", 'party', 'monday', '~may', 'scores', \"it's great! you need\", 'not', \"didn't\", 'may', 'best', \"can't\", 'would love the support! hope to see', \"wouldn't it be\", 'means', 'too far', 'if we make it that far, we', 'very strong', \"isn't\", 'may', 'surprised', 'amazing.', 'super', 'so', '~may', 'good', 'great', 'gonna be a good', 'awful', 'win', 'much', 'make', 'charming', 'still', 'great', 'best', 'thanks', 'enjoyed', 'stop making me', 'totally', ':d', 'feel', 'my life', 'be happy', 'super', 'always', 'panic', 'that.', 'good', 'trying to understand it', 'quite', 'happiest', 'no', 'it', 'good', 'unfortunately', 'hardest', 'good', 'welcome', 'good', \"sorry can't make\", 'all', 'don`t', 'yeah best', \"it's really good! love\", 'most', 'shit,', 'cheers,', \"can't\", 'worse', 'looks', 'forget', 'nothing', 'enjoy', 'favorite', 'best', 'good,', 'come see', 'woo!', ':)', 'real,', \"wasn't\", 'can', 'ass', 'only', 'not', \"won't\", 'if it kills', 'attempt', 'bless our souls', 'forever with good', 'ace', 'looking', 'win', 'want', 'far, far too long to', '(love', 'luv', 'happen', 'is gorgeous.', 'can do something similarly', \"ain't gone solve\", 'just', 'problem.', 'will have the last', 'may', 'is', 'ya for', 'yeaa!', 'congrats!', 'thanks for the', 'so', 'yes,', 'good', 'biggest', 'not', 'how you', 'daft', 'not very', 'ignoring', 'so', 'not', 'looking forward', 'not', 'wow', 'the fuck i', 'so', 'to see', 'no', '~may', 'must never forget', ';)', 'vote for', 'take', 'turn this shit off', 'surprise', 'good', 'never had a good', 'happy', 'excited', 'favorite', 'like', \"can't\", 'troublemaker', 'hoping', \"don't\", 'hurt', 'potential', 'hilarious', 'serious', 'feeling you get to say that you helped out.', '#going2bgreat', 'http://t.co/zniovk7o', 'sure', 'this is great', 'excited', \"can't\", 'come hang', \"don't want to\", 'offers', 'not', 'okay', 'so', 'me', 'envy', 'glad', 'only', 'only', \"haven't\", 'get well', 'not', 'can', 'exciting', 'worst', 'at', 'from u :p', 'taking', 'place everytime', 'tough', \"hadn't\", 'not', \"c'mon make\", '#happybirthdaykendallschmidt', 'can', 'deserves', 'shocked', 'nothing', 'just', 'delicious', 'exciting', 'special', 'awful,', 'great...we', 'cancelled.', 'fun', '#happyhalloween', 'may', 'fucking stoked to hang out with my', \"haven't\", 'sort of', 'damn', 'may', 'have', 'disgusting!', 'nothing,', 'more', 'queer', 'beat the bad', 'happy', 'great', 'may', 'pushin', 'bad', 'plz', 'exciting', 'best', 'love', 'captivating', 'biggest', 'yayy', 'just took a', 'eternity.sweetheart', 'super', 'best', 'i love', 'wow!!', 'still', 'wow!!!', '#hadtodoit', 'too', 'really', 'contrary to', 'wonderful company', 'food', 'love', 'definitely', 'won.', 'needed', 'may', 'hate', 'just', 'no', 'really', 'fucked', \"gonna be rockin'.\", 'attempts', 'fear', 'enjoy your', 'congrats', 'welcome', 'weak', 'wont make', \"can't\", 'woo hoo', 'good', 'going to', 'worth a', 'i love', 'terrible', 'be', \"he's the\", 'why horrible', 'battling', \"can't\", 'brilliant', 'miss', 'not', 'slapped', 'awful.', 'terrible', 'fasho! u know i', 'amazing', 'cant wait to', 'japan', 'same', 'mad as', 'not', 'fundamentally', 'sux,', 'shit...hope', 'proved', 'doo', 'given', \"can't\", 'beat', 'so', 'tentatively', 'sorry,', 'miss', 'dislocating', 'time....*fist', 'main', 'grand', 'sad', ':-)', \"isn't\", 'down', 'yayyy!!!', \"i can't\", 'great game...tremendous way to start the', 'hope', 'i need sleeping', 'love you', 'won', 'yeah.', 'eww', \"don't be\", 'out', 'hope', 'great', 'hail to the', \"can't\", 'favourite!', 'congrats', 'welcome', 'really', 'love', 'great', \"don't\", 'only', 'best', '=)', \"can't\", 'may', 'good', 'a very', 'take it', 'poor', '#duh', '=))', 'hellllll yeahhh!', 'displeased', 'opportunity', 'go', ':-)', 'love', 'giving it a', 'gorgeous', 'best', 'hotties', 'sounds great!!!', 'looking', 'lol', 'not', 'love the', 'i love you all so', 'sad', 'will', 'deep voice.', 'gets', 'up', ':)', 'best', 'never', \"don't want to\", 'poorly', 'surely', 'should', \"i'm not\", '#whatthe', \"don't\", 'world', 'absolutely', \"doesn't\", 'damn,', 'dont', 'exited', 'play', 'cool', 'cynicism', 'loathing', '', 'excited', 'getting', \"didn't get\", 'excellent', 'good', 'not', 'hot little', 'yea', 'ok.', '*very* rare', 'healthier', 'balls.', 'forgot', 'wtf..', 'good', 'exploding', 'no', 'excellent', 'off', 'greatest', 'em...attention!', 'oh', '*very*', 'healthier', 'aaaahhhh!', 'finally', 'good', ':)', 'first', \"didn't have to\", 'little', 'easily', 'already,', '(just another', 'sneak', 'great', 'messed', \"st....what's going on mta???? get it\", 'not', 'spent', 'talk', 'better', 'well,', \"doesn't\", 'i wanna get', 'wins', 'win', 'very', 'one to', 'good', 'i do love', 'seriously', ':d', 'lolz', 'missed', 'good', ':)', 'gonna take them', 'launching', 'awesome', 'should be', 'going', 'epic', 'glad', 'success.', 'to', 'lame-o!', 'super fuely', \"didn't\", 'winning', 'shit', 'now..heheh..but', 'irritate the', 'icon!who', 'right', 'trash.', \"don't\", 'respect you!', 'newly discovered', '\"winning\"', 'hurrraaaaah!', 'the wait is too', 'pretty', \"can't\", 'woop', 'need', 'represent', 'brilliant', 'great', 'not', 'wins!', 'looks set to', 'brave', 'definitely', 'youlve gotta see', 'good', 'love to', 'ridiculous,', 'here i', 'what the', 'more', 'nice!', 'likely', 'omg', \"can't\", 'stuck', ':(', \"don't\", 'getting', 'warm-up', \"is it april fool's\", 'always the best night of the', 'awesome!', 'piss', 'off', 'very', 'fun', 'great teen choice award', 'lol', 'fun', 'reached', 'great', 'happy', 'forget', 'winner', 'as', 'thanks', 'its too', 'defeat', 'very', 'bizarre', 'hope', 'great', 'so', 'see you in', 'never', 'so', 'kill', 'great', 'wont be as', 'jus to', 'poo ass freshman', \"can't\", 'need sleeping', 'all', 'better', 'are you', 'biggest', '\"so', 'beautiful', 'love', 'i', 'refuse to', 'feel', 'cannot', 'missed', 'brilliant', 'good', \"i'm\", 'never', 'lack', 'just', 'suboptimally', 'position to', 'dang,', \"didn't get it done.\", 'last american', 'like', 'the', 'got alot', \"can't\", 'absolutely', 'okay', 'like', 'crap', 'joins', 'trust', 'of errors!!', 'very', 'no', \"can't\", 'dead', 'plane', 'looking', 'love', 'head into the wall? seriously,', 'on', 'luck', 'sad', 'died', 'dont want barca to', 'can', 'winning,', 'winners', 'excited', 'pretty', 'slow', 'looted my', 'achilles', 'satisfactory', 'looking forward to', 'wait', 'dont', 'great', 'very', 'killed', 'may', 'song', 'to \"sleep\"', 'excitement', 'think', 'yassss,', 'brightened up my', 'bit:)', 'sold', \"don't look to\", 'dreaming', 'a', 'bad night,', 'thanks', 'great', 'so', 'only', 'just as', 'f*cking', \"can't\", ':d', 'may', 'most', 'trying', 'real', 'winnings', 'good!', '\"rise of the', 'hurrraaaaah!', \"don't\", 'tour to', 'may just be', 'most', ':-)', 'fast. so', 'apparently', '(un)fortunately,', 'whop', 'dying to', 'pretty', 'i may', 'hate', 'as', 'further', 'shitty', 'you must have loathed my', 'death', \"madonna,i wonder if i'll be famous...i=no\", 'congrats', 'wtf..', 'getting', 'worried', 'kidding,', 'best team', 'yeeeaah!!', 'so looking', 'lovely', 'looking', 'annoying', 'insensitive', 'grand', 'sad', \"can't\", 'have made it', 'bring it on!!', 'no', 'rather lovely.', ':d', 'hurt', 'killed', 'looks', 'go on for', 'scam', 'enjoyed', 'great', ';d', 'game', 'worried', 'gets', 'singing', 'crap', 'ahhhh!!!', 'omggg', 'bigger', 'hilarious', 'love', 'love', ':)', 'best', 'fun.', 'yaaayy!!', 'love', 'cheer me', 'loss', '', 'make', 'watch', 'great', 'wait til you', 'lol', 'needed', 'alot', 'very', 'appreciated!', 'great', \"you're\", 'sad', 'miss', 'deep', 'oh yeah', 'very', \"won't...but\", 'coming out', 'too', 'favourite', 'implode', 'concede.', 'impeach!', 'in', ':)', 'thing', 'i will', 'good!', 'great', 'tonight:)', 'fuckin', 'ideal', 'win', '#goducks', 'how', 'bored', 'tedious', 'please', 'not', 'irrelevant', 'traitor.', 'cool', 'truly', 'doing', 'deserving', 'favorite', 'love', 'win', 'about as much', '#zero', 'so', 'beautiful', 'love', \"didn't make\", 'incompetence.', 'haha', 'grace', 'god', 'sorry', 'bitch', 'desperate', 'offered', 'give up', 'really', 'premiership', 'called', 'killing the', 'all', 'great movie', 'still', 'special', 'shocking', 'up 4', 'juiced.', 'miss', 'injury', 'great', 'class act.', 'most', 'awesome', 'great', 'mellow', 'like the', 'annoying,', 'angry', 'fake', 'fake', 'interesting', 'saves the', 'man of the', 'most', 'madness', 'cynicism', 'open', \"can't\", 'eff', 'no', 'dream', 'real', \"can't\", 'hype.', 'comical.', 'largest', 'ohhhh', 'nothing', 'perfect saturday', 'outrage', 'salute', 'good', 'cannot afford to', 'less its a', 'brilliant', 'a bit', 'might', 'tough.', 'may not', 'cannot', 'might not be 1st', 'still a', 'kick in the', 'perished', 'call it a', 'sad.', 'free.', 'i', 'ending is superb!', 'cheering', '\"save\" football', 'desperately', 'wait', 'stuck', 'highly', 'wohooo!', 'brilliant', 'a', 'special', 'allegedly', 'great', 'good', 'ludicrous', 'pretty', 'the end of raiders postseason', 'good', 'win the', 'good', 'have a nice', 'miss', 'for the first', 'lol', 'only', \"don't even think about\", '\"sweet', 'jukin', 'shit', 'freaking', 'better fuck', 'dream', 'hope it comes', \"hasn't hit\", 'you just', 'going to be', 'worst', 'looking', 'cheer me', 'mad', 'love', 'clumsy as', 'awkward', 'pretty damn', 'soo', 'eah!', 'very happy', 'saddened', 'tragedy', 'grab', 'hope', 'congrats', 'congratulations', 'idiots', 'protests', 'wanna', 'smiles', 'sessions.god bless', 'cool.', 'failed yet', 'phony', 'winners.', 'losers-to-be.', 'be', 'weak', 'block', 'most', 'guessing', 'stinks.i', 'upset', 'true', 'class', 'sad', 'true', 'not sexy', 'people feel', ':)', 'mbaaah!shut', 'love', 'wish', 'good', 'mad', 'headed', 'glory', 'slam', 'downgrade.', 'your', 'no', 'searching', \"hasn't\", 'career.', 'the', 'of an era', 'sad', 'absolutely', 'has to win, nobody', 'amazing!', 'proposes', 'have a great', 'new', 'hating,', 'being', 'look', 'woo!!', 'best', 'beg to', 'schizophrenics', 'cool', ':)', 'suit', 'bloodbath', 'hated', 'got some good', 'happy', 'still', 'because', ':0)', 'more free,more happy, more', 'country..happy independence', 'great', 'dont', 'pretty good', 'good', 'great', ':)', 'nervous', 'riled', '\"tonight\\'s the', 'fans will', 'great', \"hope. let's\", 'great', 'tingle of', '#omg,', 'be on 1st', 'me:)', 'dramatic', 'play', 'enjoy', 'cannot', 'carted off', 'leg injury.', 'addicted', 'grumpiest', 'happy', 'enjoy', 'we love', 'were', 'cancelled', 'is back', 'miss', 'great', 'love', 'ahh', 'lovely', 'hottest', 'heros', 'superb', 'really is turning', 'better', 'excellent', 'a tough season it will', 'awesome', 'glad', 'brilliant', 'lovely rainy', 'loves jersey', 'luck', 'love', 'cheers', 'bored', 'mmm', 'put', 'burning', 'sick', 'yaay', 'obsession', 'easily', 'great practice', 'good', 'fun!', 'sad', '#depressing', 'really did your very', 'loves', 'good', 'dead.', 'christy', 'finally', 'good', \"a'smoking\", \"may not be perfect why don't you piss\", \"don't like\", \"can't\", \"doesn't\", 'hopefully', 'hopefully', 'best of', 'triumph!!', \"i'm so\", 'going', 'lovely', 'fairly', 'too', 'hopefully.', 'drunk and', ':(', 'blowing', 'awesome hof', 'being such a little', \"don't\", 'ugh.', 'head-achy,', 'assignment.', 'great', 'big', 'i can', 'enjoy', 'top the', 'good', 'strong!', 'classroom...go tigers', \"didn't\", 'ftw.', 'miss you.', 'cool', 'tonight...yippee', ':)', 'good', ':)', \"funny...i'll\", 'glued', 'most deserved', 'great', 'i', 'can', 'looking', 'to dream', 'must', 'win', 'are', ':(', 'as', 'wasnt so', 'hope', 'really', 'cannot', 'gonna be', 'please come', 'so', 'doing', 'dies in', 'gon be', 'wonder....jeezus!', 'good', \"y'all need a whole lot of\", 'day', 'kill', 'kick start this', 'sorry', 'most welcome', \"what the he'll is the\", 'shitty', 'out of', 'hello', 'beautiful', 'painting', 'much', 'fuck everyone', 'my', 'bring', \"he's really a sanchez\", 'free', \"he's\", 'newcastle.', ':)))', 'make me', 'god', 'only', 'thanks', 'lost', 'does not', \"i'm so\", 'i love', 'injury.', 'good morning', ':)', \"i've had\", 'perfect.', 'statistically', 'worth', 'spoilt for', 'i love this', 'again!!', 'football', 'i might', 'new', 'beer and', 'might be', 'took', 'business', 'damn', 'too', 'fun', 'appreciate it', \"let's\", 'please!', 'at its', 'fun:', 'was so', '1st!....then', 'lol', 'dirty', 'so', '#lookingfoward to a mini vacay', 'really', 'so', \":')\", \"you wouldn't\", 'want you to', 'party', 'interested.', 'go go', 'worship', \"don't\", 'nigga', 'get the fuck on. crazy', 'may', \"don't\", 'to believe,', 'get', 'safe', 'drastic', 'better', 'deep', 'superb.', 'again', 'ok,', 'aint winning', 'good', 'man i love', 'we had a blast. love', 'stupid.', 'sick', 'love', 'truth', 'so', 'dropping like', 'haha!', 'bloody', 'pretty good', 'excellent.', 'is a', 'will', 'what do you', 'her!)', 'the best!', 'threat', 'just', 'awesome', 'ready', 'lift up that', 'totally', 'wow', \"i'm sorry i''m so\", 'super', 'start', 'standing on', 'up.', 'great', 'thank', 'i love u so', 'set', 'amazing', 'goes', 'excited', 'it may', 'hope', 'sneaky', 'happy', 'hahahahahahaha', 'praying', 'counting', 'very tough', 'oh', \"i'm so\", 'crying', 'get off your high', \"i feel like i'm in a stare\", 'safest place to', \"there's no chance of\", 'favorite', 'i', 'going', 'really', 'come', 'cheerful', 'thrilled', 'big', 'wow', 'best', 'website...big', 'tired!', 'fuming', 'should cheer me', \"haven't been this\", 'excellent', 'get', 'cancel', 'long', 'wide', 'some', 'tonight!!!', 'kinda', 'sacked', \"you can't make\", 'thanks', \"can't\", ':)', 'great', 'wow, i miss', 'had', \"'sunny'\", \"hungover'tones\", 'very exciting', '#goodanswer', 'best', ',greetings', 'torn!', 'the', 'of', 'better', 'be ok.', 'safest', 'no', 'brilliant', 'good', 'how lucky i', 'hurt', 'saucy', 'wide', 'launch', 'so many gr8t things 2', 'makes da day', 'not', 'presents', 'almost finished', 'drug', 'murdered', 'if i', '#funny', \"7pm!can't\", 'move', 'would b', 'scored.', 'played really', 'looking up for', 'months', 'we', 'again', 'shoutout?', ':)', 'good', ':)', 'cool!', 'lots of stuff', 'going to be', 'lma0.', 'im', 'have a good', 'go', 'happy', 'is not a better place to be', 'a great pub', \"don't\", \":'(\", 'not so', 'genius. never fails to', 'total', 'i love u so', 'just a', \"i don't understand what the fuck's wrong with\", \":'(\", 'what will now cheer me up when im', 'good but', 'so', 'amazing', 'final', 'exciting', 'emotional', 'notice', 'lol!', 'of', 'hopefully', 'so', 'players/threatening', 'isnt', 'loving', 'haha', 'hasnt stopped', 'to make things', 'haha', 'must get full 3', '*rolls', 'sentiment', 'hope', 'real goin', 'good day today :)', 'comedy', 'love', 'yeah', 'pissed', 'pretty', 'for', '#fun', 'too', 'great', 'pay', 'good', 'miss...', \"i'm\", 'wow.', 'hope', 'about', 'anthem', 'chokes me', 'makes me', 'happy&', 'can', 'dirty', 'pummel', 'probably', '4-3...yay!', 'plays..........hurrah! nice', 'great', 'hope', 'most amazing', 'power!', 'so', 'amazing.', 'i <3', 'friendly', 'welcome', ':)', 'wide', 'loss', 'welcome', 'fix', 'today...loved', 'especially', 'blowing', 'awesome hall of', 'perfect.', 'how well you', 'finally..', 'love', 'good', 'doubting', \"she's\", 'severe', 'is', 'chokes', 'us.happy', 'bitched', 'intense &', 'looking', 'good', 'the 1st', 'great', 'amazing!', 'starving.', 'yikes.', 'fucking', 'aaawwh yeeeah hevy', 'im', 'figure', 'lol', 'good', ':(', 'this', 'good', 'is not alive', 'corruption', 'nothing to', 'seriously', 'madness and', 'just', 'smokeout', 'wish i could emigrate or hibernate', ':d', 'yeah', 'too', 'why', 'good', 'have', 'we love', 'so', 'big', 'definitely', 'good', 'even', 'too! :', 'explosive', 'always', 'enjoying', ':)', 'you mama..', ':))', \"can't\", 'pretty', 'to get', 'thanks', 'i', 'all fans so happy.', 'beautiful', 'throw myself off the brooklyn', 'fun', 'ate waaaaaay to', 'done,', 'the peace of', 'pray for', 'moments', 'think', 'better', 'please', 'awesome', 'cool.', '#getpumped', 'stubborn', 'demanding', 'stupid', 'look', ':)', 'mayor.......pause....wtf?!?!', 'prison', 'independence', 'worse-', 'creeps me the fuck', 'flying', 'rocked,', 'love', 'miss', 'monday...hope', 'lock him', 'we will', \"can't finish 2nd\", 'pretty', 'been hella', 'having a good sunday, sooooooo', 'weekend', 'no', 'better not let me', 'the perfect summer', ': ).looking forward 2', 'in', \"didn't\", '\"i wish i would have hit', 'great', 'selling like', 'fun', \"i'm\", \"hope you're having a good break\", 'yet to', 'fine', 'wanna', \"i'm gonna\", \"haven't\", 'i miss', 'legendary', 'some other', 'faith', 'invite', 'i love', 'safest', 'looters', 'just like to point', 'had a', ';-))', 'should be', 'will not end', 'get out the', \"can't\", 'fun', 'stinking', 'rioting', 'ideal', 'thunder &', 'spoil', 'cool', 'awesome!', 'god bless!', 'miss', 'chicagoriffic', 'talk', \"looks like they'll\", 'any', ':)', 'perfectly', 'cool', 'too far', 'beat', 'happy', 'saddened', 'already', 'hopin', 'welcome', 'lied', 'is', 'in full', 'seem mostly a', 'brought their a', 'seriously', 'beautiful', 'end of', 'keep up the extraordinary', 'not sure if i want to', 'might', 'extensive', 'adamant', 'i love them so', 'really looking', 'run for his', 'friends.', '#winning', 'productive.', 'sorry', 'fucked', 'thank', 'awesome', 'today?', 'obsessed', 'ironic', 'would not', 'yankees', 'sucks.', 'feel', 'only', 'top', 'thanks', ':)i', 'really', ':)', 'proves there is a', 'feel', 'living it', 'go out', 'cool', 'safest', 'no', 'tragedy', 'blew', 'great', 'good', 'go', \"can't\", 'beat', 'should.', 'be', 'developments in next 4', 'better', \"don't have\", 'foolishness!', 'glad', 'lost', 'does not', 'want', 'wonderful', 'love', 'creeping!', 'love ya so', 'mexico loves', 'shoot', 'kind', 'so', \"let's get\", 'too!\"......that was too', 'great', 'miller.well', 'lions,well', 'made my', 'moron.', 'good', 'city,obviously', 'looking', 'starts to annoy', \"let's just enjoy\", 'success', 'very', 'experience', 'excitement', \"i've been\", 'intense &', 'hate', 'could', \"i'm\", \"that's not going to\", 'friendly', \"happy national day! can't\", 'ban', 'hahahah', \"i've become a jets\", 'old', 'do not', 'good', 'much', 'smoke', 'nice', ':-(', 'really, really', 'now!*', 'indefinitely', 'fractured', \"seriously can't\", 'great', \"can't\", 'blow the roof', 'thanks.', 'love', 'us on', 'not looking', \"i'm\", 'so', 'all the', 'divine. i have no', 'strong', 'dude is the fucking', 'win', 'celebrate', 'apologies', 'refusing', 'bail', 'fav', 'love', 'last', ':-(', 'big', 'looks pretty', \"wasn't\", 'on', 'a', 'really', 'so', 'give', 'wise', 'smartest', 'going to', 'hopeful', 'fun,', \"can't\", '#loveyaforevernalways', 'going to', \"doesn't\", 'not', 'fireball', 'makes me', 'just', 'hope', 'most', 'credible', 'wont', 'burning', 'intolerance', 'may be', 'buzzin', 'hahaha', \"can't\", 'try', 'exciting!', 'bless', \"wsjdon't be\", 'enough', 'cool,', 'decent...now', '#lowkey', 'please', 'happy', 'pretty', 'i', 'loves', 'a wonderful show.', 'happy', 'it`s', 'celebrating', 'bit', \"don't\", 'shit', 'best', 'good', 'like', 'old', 'good', 'may the force be with', ':(', 'buck', '', 'back', \"can't\", 'will still need a', 'lose', 'good', 'have never', 'losses', 'blessed', 'love', 'miss', 'filled with', 'feeling horribly', 'fab.', 'lost', 'going', 'asses', 'interesting', ':)', 'great', 'casually', 'unbroken', 'faint', \":')\", 'shmacked!!!', 'so', 'big', 'holy', 'insane', \"can't wait\", 'go', 'weird', 'wrath', 'one of my', 'great', 'denies', 'love', 'so', 'c:', 'condemn', 'happy', 'hope', 'great', \"i'm\", 'tired.', 'no', 'pray for: the', 'peace', 'secure who love', 'great', 'now!', 'cool,', 'might not', 'no', 'honestly can not figure it', \"what's is it\", 'all sick', 'addicted', 'only', 'just', 'protest', 'pretty', 'hyped', 'no', 'ready', 'delay', 'only', \"don't have\", 'love', 'hate', 'so', 'no', 'not', 'just about that', 'cats)', 'turnup', 'i have to go, its a', 'thank', 'weird', 'shit', 'aplogize', 'dropping', \"it's going\", 'never', 'never!', \"haven't\", \"can't wait 2\", 'honor', 'support', 'please', 'an awesome', 'whoop', 'curious', 'thanks', 'sold', \"i can't\", 'win.', 'dies', 'cool.', \"don't\", '.dont even', 'us all our hrt desires', 'us better', 'just', \"really don't feel like\", \"can't wait to\", 'not', 'liked', 'enjoy', 'have', 'no', 'nice', 'better', 'awesome', 'quite', ':)', \"awesome. don't miss this show\", 'thnx', 'hilarious!', 'sad.', 'can', 'please do', \"don't\", 'game of the', 'no', 'hate', '#havefun', 'idc', 'leave me', 'pissed....', 'yaay', 'celebration', 'lucky', 'good', 'great', 'quick', \"can't wait\", 'little', 'cool', 'wish', 'i', 'gonna be', 'hope', '#lazy', 'amazing', 'good', 'just about', 'wont be', 'crash', 'lost', 'dilemmas', 'yeah', 'sexiest', \"don't\", 'win', 'beat', 'best', 'its', 'bless', 'thanks', 'loves', \"i'm not\", 'beat', 'we can do them', 'interested', 'yayyy you miss me', 'dislike', 'fuck', 'gloomy', 'hope it gets better', 'cut it', 'we loved', 'certainly be back!', 'may', 'hoping 4 speedy', 'support', 'ridiculous.', 'poor', 'alone?', \"c'mon\", 'may not be', 'missed', 'really want', 'excited', 'bothered', 'bright side of the', 'dedication?', 'gotta', \"can't\", \"can't wait\", 'greatest games ever', 'going to', 'hooked', 'wanna', 'reward', 'fully', 'bad.', '#badass', 'makes', '#cantwait', 'celebration', 'hope', 'best', ':)', 'winning', 'be', 'read & share, god will kill a baby kitten. i will haunt you w/ redundancies & bad puns. http://t.co/tu4iflqg', '-_-', 'crap like this cracks me', 'does not', 'celebration!', 'delayed', 'agreement', 'big', 'leads', 'cancelled', 'happy', 'big', 'happy', 'wish', 'the', ':)', 'cant', 'whoot', 'fun', 'hopefully', 'cool', 'happy', 'on my', 'so', 'so proud of', 'castrate', 'die.', 'to', 'best\"', '#blackmail', 'wooohoooo! :)\" [like', 'badly', 'just got silent house in the post!!', 'no', 'can', \"don't bet against\", 'may', 'bad', 'not believe', 'evil', 'still not', 'i', 'bullshit', 'no', 'show', 'not die in vain!', 'vote for andrew', 'wants to', ';)', 'fine', 'thank you', 'answered', 'no', 'get these boys', 'can straight', 'risky', 'might', 'i love you', 'i miss', 'lots of blood', 'bad', 'too', 'shit', 'make sure i hit u as hard as i possibly', 'crimes', '\"missed\"', 'yes', 'may be out', 'love', 'going to', \"i'm not\", 'worst movies', 'be', 'assault', 'tired', 'good', 'my', 'casually', 'grand', ':)', ':\">', 'heart! <3', 'love', \"can't\", 'see', 'went', 'stuck', \"can't make\", 'may not sound', 'never', 'r.i.p.', ':(', 'hope alls', 'free', 'fancy', 'no', 'finally', 'good.', 'gets so', 'scared', 'lol', 'worst', 'the', 'winning', 'most', 'i know how', 'amazing', 'big', 'do not', 'too', 'may not', 'still waiting for', '(best', 'as', \"don't\", 'elicited', 'lmaoo!', 'lol', 'need', 'magic', 'most', 'cool', 'nigga no im', 'decent day', 'sold', \"don't\", 'may', 'good', 'great', \"don't\", 'amazing', 'smooth', 'famous', 'will', 'wrap', 'fun', 'not', 'treat her', 'best', 'would love', '#merica', 'would love to', ':)', 'excited to', 'greats? not', 'butt...', \"really don't want\", \"doesn't\", 'refuted', 'looking', 'forgiven', \"can't\", 'just', 'clearly', 'ready', '#yaknowyawanna', 'tomorrow is the big', '#looooser', 'hope', 'better', 'not my', 'so', ':)', 'favorite', 'may', 'recommend', 'rejected', 'accepted', \"don't give\", 'missed', ':((', 'dying.', 'stupid', 'stop', 'highly', '#ouch', 'happy', 'great', 'enjoy', ':)', 'wins,', \"won't even that\", ':)', \":'(\", 'wish', 'ability', 'so', 'best', 'may', 'just', 'a fan!', 'change the', 'at', 'stranded in jerusalem, what a', 'cancelled', 'cancelled..', 'destroyed', ';)', \"still can't\", 'might', 'awesome', 'nice', 'big', 'support', 'a', \"don't fancy our\", \"i'm so\", \"don't\", ':(', 'spit', 'hope', 'enjoying', \"don't miss this\", 'turned', \"c'mon\", 'wow', 'just', 'awesome', 'thanks', 'honestly', 'can', 'discomfort', 'frustration', 'better', 'perfect', ':)', 'holy', \"haven't\", 'to', ';)', 'just', 'good if not', 'i got to', 'should not', 'that drink one day!', 'comes out', 'shadows', 'good', 'shining', 'be a great day!', 'made my', ':/', 'i just', 'dead', 'tough', 'good', 'lol', 'aint playing', 'cant', 'will', 'shout', \"don't\", '#dontmissit', 'agree', 'encouraging', 'classy.', 'prolly', 'live', 'love', 'have committed', 'hope', \"can't\", 'will', 'passed', 'not', 'wooooooooaaaaaaaaaaaaaaaaahhhhhhhhhhhhhhhhhhhhhhhhh', 'want to join', 'available', 'free', 'hope they', 'so proud of', 'happy', 'my suicide', 'amazing', 'incredible', \"didn't have a\", \"don't know what i\", 'happy', ':)', 'yes, it is', 'fantastic', '<3', 'celebration\"', 'happy', 'was', 'was', 'was', 'also', '^_^', 'riots', 'real', '(swoon!)', '!', 'fuck w/ the', 'i got', 'beautiful', 'looked', 'hopefully', 'will', \"don't\", \":'(\", 'not', 'most', 'heartbreaking', 'full', 'comets!', 'liked', 'faded a', 'good', 'i love', 'xoxox', 'horrible', 'drug', 'thanks', 'too', 'won', 'drugged', 'incapacitated,', 'murderer', 'never', 'sigh.', 'really wanna', 'no', 'wins', 'could beat', 'so', 'even more', 'winning', 'thank god it is', 'loved', 'can;t', 'may', 'risked', 'promote', 'willing to', 'overdue.', 'fools,', \"you'd love to the\", 'little', 'surprisingly', 'mad', 'died', 'might never love', 'true', 'game', 'lmao!', 'missed', 'cancellation...', 'free', 'ponce!', 'scoring', 'to', 'glad', 'will shine', 'this too shall', 'famous', 'another great', 'vibe', 'happy', 'ok', 'not', 'now...need', 'embarrassed', 'lmao', 'what the fuck did i', 'damn........', 'interested', 'celebration.', 'have a good', 'may', 'lot', 'i really', 'not', 'fail', 'successful', 'biggest', 'may not', 'in', 'may', 'glorious', 'happy', 'protest!', 'dam', \"can't\", 'lol', 'may have something to say about', 'errors', 'boiling', \"can't possibly say enough good\", 'big', 'may', 'greatest', 'we still at', 'lol.', 'super', ':d', \"i can't see him\", 'win', 'fails', 'show', 'losing', 'is', 'no', '@sharethis*happy', 'cheery', 'lol', 'no???', 'going', '#not', 'sad', 'bit', 'looking', 'cold', 'sunny', ':-)', 'gotta', 'rocks okinawa with stylish airport', 'genuinely', 'happy', 'satisfied', 'may', 'hardened', 'does', \"doesn't\", 'quite', 'a sigh of', ':)', 'big', 'big', ':(.', 'clear', \"i'm\", \"don't\", 'favorite', 'piss', 'happy', 'we love', 'may have nowhere to', 'strong.', 'such a tease', 'cloudy', 'good', 'see', 'seem to be in quite a', 'hope you', 'fraud', \"can't\", 'not', 'stay', 'show some', 'although', 'may', 'always', 'halts', 'beheading:', \"don't\", 'lol', 'biggest', 'fully', 'never find a', 'worse!', 'killed', 'just', 'nothing', 'sure', 'nice', 'even', 'wrongly', 'interesting', \"wasn't\", 'ready', 'obviously,', 'hopefully', 'loving', 'see', 'be perfect', 'success', 'victory,', 'enemies', ';)', 'fatal', 'welcoming', 'lots of', 'big', 'saad.', \"didn't\", \"isn't\", 'had to', ':)', 'looking', 'watching', 'full', 'hopeful', 'hopes', 'see you', 'love', 'really really', \"can't be\", 'wont', \"wasn't sure\", 'excited', 'nastiest', 'ok', 'could', 'to ask for is', 'a bad', 'love! i love', 'good', 'bulls are', 'love', 'biggest', 'cut', ';)', 'get', 'wow', 'no', 'thank', 'makes me', 'excited', 'am i the only', 'wants', 'to', 'hopes', 'tremendous', 'win', 'great', 'respect.', 'damn', 'have to', 'not', 'serious', 'beautiful', 'enjoy', 'throwing her guts', '\"did not contest', 'no', 'no', 'saved,', 'showed me', 'misconceptions', 'right??', 'not', 'support..', 'gives some', 'richest', 'i wanna', 'tomorrow,but i', 'best', 'hopeful', 'hopes...', 'thank', \"gie's a shout\", \"i don't\", 'lying', '\"lied\"', 'be as', \"doesn't\", 'hahaha....', 'beating', 'crap', 'at', 'will make', 'congrats', 'keep it', 'assault', 'close', 'wrong', 'i would', 'my last', 'brilliant.', \"ain't\", 'ready to', 'sad', 'a great', 'wives...now what do i', 'okay', 'worse', 'false', 'famously', 'love', 'hope everyone', 'true', 'better', 'goading', 'hopeful', 'hopes', 'thanks', 'on the guest', \"doesn't\", ':c', \"can't\", \"can't\", 'earn our', ':)', 'strong', '#love', 'haha', 'looking', 'warns', 'may', 'worst', 'seriously', \"isn't\", 'just to see', 'shocked', 'honorable', \"i ain't\", 'high-quality', 'come', 'recognized', 'appreciating', 'happy 30th', 'seems', \"don't\", 'haha', \"'may the odd's be ever in your\", 'good', 'construction', 'causing', 'no fucking', 'will not be far from those', 'may have', ':)', 'injured', 'all the', 'goddamn.', 'one excited?', 'big day coming', \"i'm praying their\", 'happy', 'sorry', \"couldn't\", 'refuse', 'please tell me sumthin good!!!', 'huge', 'blocked', \"can't\", 'pretty', 'destroyed', 'care', 'on', ':)', 'old', 'jim henson', 'a shit', 'already', \"we'll probably meet up\", 'want to', 'not', 'rationalize', 'protested', 'against', 'does', 'denies', 'fraud;', 'hahaha', \"everyday.so,don't\", \"didn't get a\", 'may you', 'biggest', 'damn', 'sick.', 'lost', ':)', 'brutal', 'only', 'long', 'sorry', 'see', '=)', 'people..loll(:', 'on top of the', 'may', 'jaded', 'cheer', 'worst', 'come hang', '#interestingfactoftheday', \"don't hear\", 'you\\'ll smell them.\"', 'i', 'might', \"it's\", 'congratulations', 'hahaha', \"sounds like he's dying\", \"can't wait to\", 'proudly', 'hottest', 'not you?', 'will', 'fucking', 'missing', 'not a very', 'really', \"people just hatin'.\", 'nicest', 'damn this is the place to', 'rolling', 'said!', 'brilliant', '\"too', 'greatest thing', 'leave', 'love', 'support', 'issues', 'rest in', 'may the force be with you my', 'seem', 'awesome!', 'bad', 'just hilarious!!!', 'dunno', 'believe it or not', '>:|', 'gotta', 'keep', 'outclassed', 'please', 'kobe and ron attest autograph so', 'suspect', 'warned', 'were at', '#bestlunche', 'sooo cute', 'wanna', 'make', 'hopefully', 'hate', 'the big', 'want', 'going to', 'go girl', 'funked', 'savage', 'no', 'happy', 'you', 'the best', 'long time no', 'not', 'never', 'may just', ':)', 'palmares.', 'robbing', 'how', 'free', 'freak', 'best', 'massive', 'should', ':)', 'murdered?', 'brilliant', 'not a bad', 'happy', 'wins', \"haven't\", 'great,', 'great,', 'may not', 'amazing', 'war:', \"didn't get to\", 'interesting', 'tough', 'interesting', \"don't have to\", 'most', 'called', 'sorry', 'so', 'looking forward to', 'amazing', 'success', 'hope', 'sad as it', 'come check', 'love', 'really', 'wavy', 'most', 'without', 'nice to be', \"you're having fun.\", 'thanks', 'looking', 'biggest', 'i know', 'missing', ':)', 'great', \"didn't\", \"doesn't,\", 'fined', 'try and', 'returned', 'last', 'liking it so', 'rejected', 'negative', 'derby', 'frustration', '#hatedbyall', 'very', 'amazing', 'soars', 'we', \"can't beat\", 'biggest', 'friday night', 'good', \"should've\", ':)', 'gonna', 'good', 'balanced', '#sarcasmnotwelcome', 'why the', \"don't?\", 'love to', 'true......', 'patiently', '<3', '<3', 'come', 'support', 'feels', 'easier', 'fantastic', 'beat', 'being', ':/', 'pissed', ':d', 'win', 'thank you st', 'awesome', 'nice', 'wins', 'will be', 'yes', 'buzzing', 'proud', 'heart', ':-(', 'very cool. my', 'botching', 'made', 'hopefully', 'debagged', 'flicked his', 'no', 'butt', 'check', 'fans,', 'genius', 'worry', 'gone', '6th', 'it right!', 'real good', 'lovelies', 'plotting to put out the', 'miss you girls', 'good', 'damn', 'looking', 'excited', 'and', 'stiff', 'snuck', 'debated it', 'totally', 'great', 'amazing', 'most modern &', 'wont', 'intolerance', 'odd', 'thanks', 'big', 'lol', 'death', 'one of the best', 'would love', 'gone kill', 'damn no more eye candy. miss', 'im so excited!', 'beyond', 'stop', 'say', 'more', 'totally', 'i', \"can't\", 'happy', 'dead,', 'love', 'ruined', \"don't\", 'never', 'should definitely', 'ready', 'party with', 'happy', 'win...tigers', 'win', 'good', '#ulol', '#soundsgoodtome', 'wild', ':)', 'burst', 'omg!!!', 'mess', 'yay!', 'much', 'thank', 'greetings,', 'injury:', 'defensive', '(fb):jesus is not present to find', ':))', ':d', 'incredible', 'stoked', 'i want to', 'make plans with', 'not', 'claimed the', 'wise', 'best', \"wouldn't\", 'enjoy', 'prove', 'big', 'thank', 'cry', 'going to be', 'finally get to', 'really looking', \"it's\", 'greatest', 'hope', 'hilarious', 'fav#genius', 'may as', 'ok,', 'boom! xd!!', 'good', 'shameful', 'chance', 'fucking', 'nervous', 'one less thing to worry', 'canceled', 'fucking', '-.-', 'good', 'lifes pretty damn', 'should', 'dont', 'http://t.co/0g5baw47', 'like,', 'rarest', 'like,', 'winning', 'cancels', 'canceled', 'good', \"can't\", 'favourite', 'fantastic!', 'hoping', \"let's\", 'madness', 'great', 'brother\"', 'like', 'best', 'worst', 'may', 'got', 'enjoy', 'yes,', 'need', 'shit', 'calender...do it', 'history will be', \"can't\", 'may', 'walk', 'walked', 'be', 'love is just as', 'hopeful', 'greatest', 'still', '*sobs*', 'happy', 'nice', 'nicely.', 'guest', 'get', 'happy', 'great', 'changed the', 'had a great', 'chilling', 'doom', 'free', 'incredible', 'small', 'strong', 'nice', 'luck needed', 'an', 'right.', 'face', 'lol', '\"we', 'hate', 'i love', 'great', 'enjoy!', 'skill', 'victory!', '#hihaterz', 'feel', 'lose', 'love', \"can't\", 'dumb', 'still', 'enjoy', \"can't\", 'warning:', 'currently', 'good', 'mad', 'grace', 'more', 'skanking', 'looking', 'praise', 'proudly', \"haven't seen it yet, doubt i\", 'happy', 'number', \"can't wait to\", 'dude is on another', 'help', 'abused', 'abandon', 'not', 'welcome', 'good', 'delayed,', '#wtf', 'love', 'looking', 'looks a little', 'so', 'freeze', 'stop', 'can', 'good', 'happy', 'lol', \"don't\", 'come see', '#weeeeeee', 'going to', 'just', 'won', 'real', 'great', 'nifty,', \"don't get\", 'i cried like a', 'an', '1st', 'amazing', \"can't wait to\", 'weekend', 'back', 'mess', 'best of', ':)', 'did', 'pretty', 'with me,', 'will see', 'fucks', 'looking', ':d', 'taken some', '2nd fav...', 'tired.', ':)', 'big', 'opens', 'will be', 'free', 'hahaha', 'upset', ':/', 'lost', 'lost', 'quite an odd', 'lovely', 'swooooooooooooonnnnn', 'problem', 'awful', 'omg,', 'hell', 'care', 'be', 'just', 'needed', 'be', 'not look', 'fuck', 'weak', 'penalty', 'good', 'still doing', 'cheap', 'worry:', 'gonna be', 'party', 'the', 'and', '', 'overtaken', 'favorite', 'join the party!', 'moves', 'bumped', \"isn't the only\", 'has', 'nails', 'record', 'just in', 'hope', 'shit', 'crinack.', 'thankful', \"isn't as\", 'safe', 'will blow', \"don't count the zags\", '(doesnt', 'hope', 'becomes even', \"can't\", ':))', \"can't even\", 'happy', \"can't\", \"beloved, don't\", 'fun,', 'awestruck', 'won', 'fingers', 'just loving', 'thrilled', 'against', 'try to', 'miss', 'love!', 'yaaay.', 'really', 'good', 'bad', ':/', 'delays', 'glad to', 'congratulations', 'really', ':)', ':)', 'will not', 'we need', 'haha', 'adorable and', 'happy', 'creative&&talented', \"didn't get picked up\", 'to the cast and', 'come support', \"doesn't look\", 'this', 'doing', 'confirmed:', 'won', 'fruitful', 'no', 'lashes', 'better', ';)', 'i may or may', 'good', 'hopeful', 'hopes', 'may', 'fine', 'untrue', 'hate', 'bad', 'no', '#nevergetsold', 'fastest', 'chance', 'is', 'good', \"isn't a big tv night for\", 'not', 'happy', 'hopes', 'love', 'special', 'not', '#aintgottimeforthatshit', 'and', 'a...', 'love', 'happy 21st b', 'looking', 'donate', 'dedicating', 'good', 'good', 'good', 'good', 'please.', 'askin.', 'good', 'come', \":'''''''). great\", 'great', 'good to', 'has', 'picture of the', 'will be no', ':)', 'good', 'not that', 'countries<3', 'warning', 'piss me', '#imatmybreakingpoint', 'loves', 'great', 'fantastic!!!!', 'winner', 'chillin with', 'working on new', '2nd', 'with', 'available', 'damn', \"can't\", 'the losing', 'help.', 'so pretty', 'better', 'always', 'great', 'cool', 'huge.', 'big', 'worldwide!', 'some', 'a higher', 'fresh', 'you are all', 'havent', 'missed a', 'worried', 'not be so bad', 'that much', 'better', 'interesting', 'good', 'take', 'help', 'so', 'so', 'noooooooooooooooooooo!!!', 'lose my', 'big', 'play', 'catch da full', 'blaring', '#yeahbuddy', 'just', 'better', 'chance 2 win', 'somber', 'good', 'fun', 'love', 'tonite it goes', 'dirty', 'have', 'booooooo', 'weird music', \"don't\", 'but i', '\"gets', 'the turning', 'just the', 'wins', 'unfortunately', \"shouldn't\", 'love', 'heated', 'happiness.', 'might', 'chance', 'and', 'bullpen', 'it', 'may', 'a', 'win', 'hell', '3rd', 'so', 'good', 'lucky', 'absolutely amazing', 'luck', \"can't\", 'weird,', 'fired', 'sober.', 'interesting', \"can't\", 'sweetness', 'big cast', 'make', 'no', 'fuck', 'worldwide', 'fooling', '#thanks', 'expect', 'tomorrow,', 'filthy', 'good', 'final', 'game', 'go well, love', 'shockingly quiet', 'verge', 'supposedly...', 'like.', 'oh i hope', 'so', 'soo many', 'looking forward to', 'the colts', 'some', 'quite', \"don't\", 'still', 'lead', 'love', 'failed', 'be', 'is', 'worried', 'good', 'with a knee', 'strong', 'could', 'good', 'worldwide!', 'love', 'thanks', '@us1035', \"thank you tampa bay's best\", 'excited', 'hope', 'win', 'move', 'more', \"didn't\", 'correctly,', 'really', 'yay!', 'have a', 'better!', 'wait', 'fail', 'hope', 'gets', 'no', 'no tv no', 'straight preseason', \"won't be\", 'devil', 'always', 'awesome', 'great', 'sexy', 'great', 'can', 'but', 'chats', 'love', 'favorite', 'huge', 'not', 'proud', 'sort it', 'did', 'like a train', 'a big', 'so', 'better', 'just', 'on my', 'love', 'i can', 'agaist', 'have moved 90 % of my used-to-be-journal', 'can', 'not', 'kind of a boring', 'so', 'the best!', 'duno', \"don't have\", 'huh...', 'array', 'urges', 'riot', 'won', 'cannot', 'still love', 'in', 'can', 'like to', 'ok', 'can', 'happy', 'happy', 'boring', 'extremely', 'sorry to', 'so gorgeous!', 'be', 'shit', 'smartest', 'couldnt have been', 'wins', 'protest', 'availability', 'haters.', 'crazy', 'loses', 'great', 'sun', 'supporting', 'won', 'hahaha', 'free', 'ignore', \"wouldn't make\", 'tired.', 'always', 'only', 'wow', 'can\\\\u2019t', 'will not', 'may', 'okay,', '15%', 'no', 'great', 'drive me', 'brilliant', 'interesting', 'loved', 'so powerful and', 'love!!', 'bad', 'do', \"don't\", \"can't\", 'w.o.w', 'sooner or', 'thanks', 'never', 'have to wait till', 'new', 'all', 'blame', 'slow him', 'may', 'chika chika', 'this is', 'warm', 'good', 'so', 'all', 'congratulations', 'is', 'mayb', 'impossible\"\"', 'not', 'beautiful', 'better', 'bitching', 'yes', 'greatest', 'so', 'engorged', 'duno', \"aren't going\", 'wonderfully', 'quality', 'may', 'lucky', 'strong', 'interested', 'thanks', 'wooooooooooooooo!', 'ok', 'cancelled', 'blockbuster', 'always', 'such a', 'not', 'beat my', 'wanna', 'most', 'excited!!!', 'really!', 'do not be late', 'excited', 'definitely', 'powerful', 'lose', 'on the', 'could', 'festival', 'quite', 'died', 'not', 'not', 'best', 'love', 'defeated', 'a', 'not', \"don't\", 'sudden extreme', 'ahahahaha\"', 'state', 'winked to', 'so', 'richer', 'cute.', 'too', 'damaged', ':( take', 'great', 'best', 'a bit', 'this just', 'hope', 'come', 'thanks', 'hehe', 'may', 'love and friendships will last', 'hope', 'cant', 'great', 'bad', 'of', \"can't\", 'is', 'little', 'great', 'blow the roof', \"can't\", 'no', 'support', 'have', 'love', 'so', 'free', 'go', 'no', 'play', \"isn't\", 'dunno', 'so', 'catching', \"they'll f***ing\", 'mad', 'not', 'damages', 'again', 'wont be', 'big', 'thank', 'sweet', 'odd', 'cant', 'better', 'no', 'best', 'knackered.', 'thank.', 'ever', 'no aims in', 'haha\\\\u002c', 'can', 'lazy', 'hope', 'would not', 'be', 'only', \"don't\", 'fuck', 'might as', 'ranting', 'enjoy', 'scared', 'to', 'loneliness.', 'pathological', 'boogie', 'kicked', 'gracious', 'good.', 'joyous', 'want', 'make', 'amazingly', 'maybe', 'only', 'just', 'retarded', 'hurl.', 'not', 'still', 'great', 'miss.', 'sick?', 'fun', 'hope', 'embarrassed', 'great', 'dreading', 'objections?', 'hard', \"happy mother's\", 'some', 'very', 'cute and', 'damage', 'happy', 'nope\\\\u002c', 'dun', \"wouldn't\", 'go', 'to', \"can't wait\", 'noo', 'don\\\\u2019t', 'quite', 'scary', 'great', 'thx', 'succesfully', 'ok\\\\u002c', 'always', 'not', 'haha', 'should watch it to the', 'cant', 'contest.', 'affecting', 'interested', 'ohhhh', 'haha', 'expect', 'did not even', 'shit...', 'cant...', 'really miss him. glad to', \"don't\", 'soon.\"', 'beautiful', 'thanks', 'okie', 'just', 'shittier.', 'not feeling', 'can', 'enjoy', 'error.', 'sadly', 'enjoy', 'do not like to', 'sweet and', ':)', 'did', 'haha..', 'can', 'coming', 'picks shaker', 'ok', 'mind..', 'good', 'sneak', 'toughness', 'easy', 'shit', 'cannot', 'never', 'blood', 'really', \"don't\", 'did me', ':) may', 'good', 'just', 'so', 'hello', 'happy', 'good.', 'cost', 'win', 'pretty', 'helps', 'okie.', 'sorry.', 'very', 'great', 'get', 'unfortunately, not yet.', \"probably won't\", 'slut', 'funny', 'having a great', 'proud', 'settle', 'gd', 'might', 'nothing', 'may', '^___^', 'good', 'would', 'great', \"don't\", 'deserves', 'want to', 'take', 'haven', \"isn't\", 'really', 'wont', 'have', 'still', 'victory', 'cant', 'one of the only', 'interested', 'diet..wish', 'blessings', 'maybe', 'so', 'not', 'can', 'must', 'so', 'distracting', 'more', 'were', 'meet', 'good,', 'unreal.', 'nice and', \"haven't\", 'why', 'hopefully', 'exciting...', 'muthafuckin', 'problem', 'luck', 'more', 'relax', 'as high', 'favorite', 'may', 'free', 'hate', 'have a', 'love', 'maybe', 'hope', 'struggling', 'hatin', 'hee...', 'never', 'just', 'come', 'dun', 'discarded', 'dun', 'very', 'upset', 'volunteer', 'also', 'lazy', 'win', 'happy', 'love', 'certainly wish i could make', 'miss', 'new', 'terrible', 'doing', 'so', 'fired', 'wants', 'great', 'loud?', 'prettiest', 'crisis', 'enjoy!', 'hot', \"don't\", 'made no major policy', 'so', 'ok', 'loss', '#success', 'got', 'hopefully', 'not', 'wont b', 'may', ';)', 'perfect', 'best:', 'may not be', 'happy', 'wish', 'support', 'sorry', 'love', 'cant', 'no', 'disturb', \"can't\", 'not', 'happy', 'playing', \"shouldn't be\", 'congratulations', 'top', 'hahahahah', 'pretty', 'has been', 'funny.', 'perform', 'so', 'not', 'happily', 'gain', 'probably', 'late!', 'best', 'win', 'not quite so', 'have', 'almost', 'throw', ':)', 'dont', 'not sure', 'no', 'loved', 'seemed to', 'thanks!', 'nice', 'suffer', 'strict', 'hope', 'very', 'amazing', 'just', 'love', 'atrocious', 'make', 'sad', 'very', 'encouraged', 'last', 'doing', 'do', 'duno', \"doesn't\", 'not', 'always out of', 'never', 'slow', 'stop', 'hanging', 'there not be something', 'loving', 'glad', 'did not have much', 'ok\\\\u002c', 'thanks!', 'sorry\\\\u002c', 'great', 'next', 'wrong', 'love!', '^.^', 'no', 'available', 'want', 'suspend', 'not', 'lovely', 'against', 'haha\\\\u002c', 'can', 'check', 'no', 'climb', 'cry', 'ready!', 'tricky', 'great', 'sure', 'enjoy', 'intergalactic', 'hurry', 'missed', 'come', \"weren't\", 'makes you', 'did not', 'bloody', 'great', 'happy\\\\u002c', 'love', 'thks', 'hope', 'need', 'probably', 'happy', 'epic', 'miss', 'can', 'soon!!', 'on sunday', 'happy', 'lonely. never', 'loyal', 'beauty', 'good?', 'don?t', 'won', 'hard', 'can', 'didn\\\\u2019t', 'means', 'full', 'issues,', 'straightforward', 'hope', 'may not be', 'http://t.co/cse95ib5', 'may', 'pisses me', 'pretty', 'absolute', 'not', 'good', 'would', 'need', 'squeeze', 'so', 'win', 'no', 'soon', 'nvr', 'join', 'fam....best', 'dun', 'better', 'maybe', 'should', 'haha', 'a free', ':)', 'busy', 'bored', 'could', 'do', \"we'll be\", 'haven\\\\u2019t', 'mental', 'won', 'not', 'crazy', 'kill', 'pretty', 'closed', 'only', 'worried', 'makes', 'available', 'just', 'yes', 'a lot of', 'super', \"don't\", 'goes into', 'finish everything', \"didn't\", 'welcome', 'maybe', 'hope', 'ok?', 'sunning', 'sounds', 'going!', 'interested!', 'thank', 'gave me the', 'love', 'still', 'nothing', 'who', 'happy', 'don\\\\u2019t', 'is', 'still', 'dunno', 'wrong', 'a lot', 'evil', \"don't\", 'carefully', 'support', 'couldnt', 'feelin v', 'really', 'remind', 'never', 'happy', 'air', 'watching', 'forget', 'scold', 'interesting', 'special', 'ye', 'falls', 'broken\"\"', 'too', 'way too', 'great', 'love', 'happy', 'hope', 'arrested', 'may', 'wonderful', 'disaster', 'may', 'vinny)', 'efficient', 'may', 'tired..', 'scums', 'not', 'so damn', 'stopped', 'ok\\\\u002c', 'late.', 'care.', 'should', 'welcome', 'ok', 'gd', 'for', 'won', 'is not', 'hate', 'so', 'sucks', '\"lol', 'better?', 'cant', 'have', 'fell off the', 'so', 'absolutely', 'already', 'just', 'wooo...', 'not boring at', 'and', 'arrived', 'rocky', 'appeared', 'right', 'not', 'hope', 'ok', 'injured', 'lies', 'duno not v', 'available.', 'pity', 'sori', 'celebrating...', 'thank', 'may', 'hope', 'downplayed', 'sooooo', '', 'haha..', 'want to', 'not bad\\\\u002cbeen', 'forced', 'always', 'hopefully', 'win', 'looking', '\"good', 'haha\\\\u002c', 'forget', 'awesome!', 'no one!', 'ok', 'appreciate', 'never', 'heavy', 'discontinue', 'soon.', 'have no', 'good.', 'promote', 'crazy', 'won', 'not', 'fucking', 'fantastic', 'not', 'can', \"don't\", 'new', \"don't look at the bad\", 'won', 'full', 'promise', 'congratulations!', 'yesssss!', ';)', 'dun', 'injury', 'will give you a', 'merry', 'can', 'lol', ':)', 'not', 'good', 'are', 'help keep it that', 'really', 'a big', 'with a', 'dun', 'shitfaced', 'stupid', 'dunno', 'so sorry', 'so', 'won.', 'make', 'congratulations', 'guess', 'still', 'disgusted', 'pretty', 'hungry', 'fantasy', 'lousy', 'sad', 'thanks', 'may not', 'never', 'really', 'seem', 'stuck', 'still', 'not all that', 'pure insanity', 'hopefully', 'fucked', 'do not', 'want', 'not', 'missing,', 'special', 'sat down without wiping his', 'hoping', 'support', 'so', 'shot', 'not', 'big', 'wish you', 'i love', 'brilliant', 'agree', 'wanted to see', 'not too', 'as you', 'enjoy', 'still dun', 'harrowing', 'gd morning.', 'more', '#heroes', 'dunno', 'really need to', 'cannot', 'great', 'better', \"~certainly didn't\", 'thanks,', 'duno.', 'already...))', 'dont', 'going', 'i am not', 'sudden', 'lol', 'ok', 'anticipates', 'miss', 'come', 'hoping', 'unreal', 'worst', 'sweet', 'released', 'wish me', 'great', 'locked and', 'have not', 'sorry', 'kicks', 'does not', 'fantastic', 'goes on.', 'lol....', 'wondering', 'good', 'helps', 'hope', 'try', 'have a good', 'not', 'come', 'dun', 'excited', 'goin to', 'win', 'welcome', 'not', 'might', 'jus', 'will probably go', 'memories', 'can', 'famous', 'not?', 'ok', 'no', 'end', 'might', 'love', 'not', 'sorry', 'haha', 'problem', 'nice', 'sad.', 'best', 'so', 'forgot', 'better', \"i'd\", 'should be', 'holding my', 'not', 'can', 'stupid', 'best', '#dying', 'crap', 'win', 'dun', \"don't think so!\", 'abandoned.', 'sucks.', \"aren't\", 'not', 'reveal', 'love', 'still', 'explosion', 'may', 'haha', 'be', 'try', 'shot', 'so', 'only', ':-)', 'happy', 'yeah', 'very', 'hope', 'always', 'a', 'going', 'shit load', 'thank.', 'please', 'lose', ':))', 'will', 'gets', 'love', 'not', 'did not', 'glorious', 'taught me', 'wrong', 'havent', 'good', 'nothing', 'very', 'nothing', 'will not be', 'closed', 'annoying\"', 'cant', 'forget it not', 'cannot', 'sorry...dint', 'fool', 'more', 'wins,', 'want', 'don\\\\u2019t', 'wet &', 'hope', 'difficult', 'good', 'shit you', 'very', 'wins', 'going to', 'sorry cant', 'thanks', 'facilitate', 'sooo', 'sorry', 'hope', 'cant', 'you', 'free!', 'stop', 'dunno...', 'good', 'happy', 'surely', 'might', 'can', 'back', 'look more', 'just', 'horrifying', 'busy', 'what i wanted to', 'celebrating', 'debates,', 'come', 'supposed to', 'all', 'most', 'surprised', 'couldn\\\\u2019t', 'not', 'pissed', 'one', 'lose', 'great', 'so', 'i know i', 'beautiful', 'brilliant!!!!', 'dun', 'hope', 'can', '#smartdaughter', 'love', 'big', 'kinda', 'hit', 'cant', 'ok', \"c'mon, c'mon. don't\", '\"well', 'pleased', 'ok no', 'should i try to', 'dont', 'turns out', 'great', 'pretty', 'still', 'says', 'not too', 'new', 'much', 'good', 'so', 'available', 'yeah', 'like', ':)', 'will', 'best', 'hostile', 'dork', 'dun', '#awkward', 'up and', 'may', 'perfect game-well', 'tragedy', 'someone', 'good', 'didnt', 'gorgeous', 'unfair', 'turnup!!', 'to be missed', 'special', 'haha... dont be', 'very', 'merry', 'gd', 'can\\\\u2019t', 'enjoy', 'good', 'darlin', 'funny', 'just 2 more', 'what the', 'happy', 'trouble', 'wrongly...', 'okay', 'amazing', 'unreal.', 'wrath', 'support', 'good', 'accelerate', 'lamest...', 'have', 'really', 'exciting', 'still', 'not', 'eliminations', 'don\\\\u2019t', 'gd', 'were', 'okie...', 'new', 'quite', 'really', 'just', 'feel', 'improud', 'yelling', 'the best. thank', 'also', 'want', 'fuck', 'complimented', 'so', 'great', 'crazy', \"don't\", 'good', '#crushsohard', 'inspired', 'so', 'wonderful', 'nobody', 'easier', 'ok...', 'no', 'glad you', 'okie...', 'scared..', \"don't\", \"can't\", 'you', 'kinda doubt you will get', 'put', 'dun', 'at', 'interested', 'poor', 'share', 'i am', 'wanna', 'can', 'worth', 'got', 'her', 'cancelled.', 'so naughty...', 'most', 'get', 'doubtful', 'the', 'cant', 'doesn\\\\u2019t', \"don't\", 'ok', 'enough', 'considerin', 'excellent', 'dun', 'best', 'looking to', 'dun', 'fine', 'actually', 'his own', 'terrible', 'thanks', 'awesome.', 'defected', 'heartbreaking', 'am not', ':)', 'welcome', 'vibin', 'not', 'fine', \"didn't\", 'should', 'available', 'still', 'great', 'come', 'all', 'wish', 'not so', \"don't\", 'error', '24th...hope to see', \"don't\", 'no', 'you want to', 'can.', 'shitty', 'crazy', 'messed', 'enough', 'a brilliant', 'fast...haha', 'wanna', 'exploring', 'no', 'finally', 'interesting', 'pretty', 'do want', 'love', 'win monday....put foles', 'rough', 'crazy', 'accidentally', 'nobody', 'sexy!', 'lack', 'want', 'excited', '#happybirthday', 'haha', 'prob...i', 'dear\\\\u002ccongrats...', '4ever', 'stupid', 'not', 'wish it will go through', \"still can't\", 'happy\\\\u002c', 'duno', 'glad', 'wow', \"don't\", 'okies\\\\u002c no', 'no', 'flop:', 'busy,busy bee i', 'hope', 'good', 'actually', 'no', 'free', 'haha', 'nothing', 'not', 'alike', ':)', 'happy', 'ok', 'expect', 'spare', 'not', 'noone can say', 'will', 'mid-october...best', 'won', '#pissed', 'good', 'quality', 'come and', 'thank', 'victim.', 'better', 'jail', 'only', 'come', 'best music.', 'at', 'best', 'good', 'more', 'not', \"hope you're\", 'snarky', 'not', 'come', 'scared', 'the', 'thank you so', 'great', 'haha...', 'cant wait to', 'stronger and', 'okay', 'a lot', 'feeling well. dont', 'good', 'care', '#fat', 'may', 'but', ';)', 'way down the', 'time no', 'saves', \"can't\", 'ok.', 'havent', 'need more', 'not', 'happier', 'already', 'can', 'great', 'done a', 'lost', 'always', 'exciting', 'just', 'interested.', 'creative?', 'interested', 'dun', 'pretty', 'so', 'do', 'accessible', 'is', '#runninglate #crazyday #blah #happymonday', \"can't just post\", 'best', 'duno', 'share', 'may be the', 'another great', 'last', 'love', 'all are', 'love to make people', 'helper', 'shld not be dat', 'ah', 'grown', \"don't\", 'love', 'dunno', 'incredible!', '#1', 'land', 'dun', 'just', 'happy', 'gd luck.', 'strength', 'enjoyed', 'so much', 'amazing', 'biatches!! suck my', 'never worked', 'haha...', 'havent', 'great', 'thursday?miss', 'so much', 'check', 'no', 'help', 'hoping', 'sorrie', 'flexible', 'best', 'what a', 'might', 'so', 'won', 'nice!', 'heaven', 'good', 'shit', 'restored:', 'have not', 'sorry', 'play', 'cannot...i', 'fair', 'not', 'havent', 'just', \"feel like i'm\", 'welcome', 'very', 'ok', ':)\"', 'too', 'anot?thanks!', 'help', 'sigh.', 'yes', 'look so', 'fancy', 'sorry', 'owe', 'quite', 'wins', 'so', 'need', 'still', 'highest', 'surged', 'enjoyed a', 'honorable', 'super', 'right', 'deserves', 'may not', 'do', 'not at', 'finally', 'wants', 'mighty', 'whole', 'stupid', 'lose', 'duno', 'hey good luck for your', 'mad', 'not', 'just', 'helped', 'celebrate', 'just', 'no', \"can't\", 'just', 'sweet', 'very', 'cancel', 'fancy', 'showing', 'no', 'respects', 'good', 'mayb', 'festivities...just', 'still', 'miss', 'great', 'just', 'bad', 'finally got to', 'haha.', 'damn', 'graduate', 'ends!', 'affected', 'always', 'xtreme hmv', 'proper goal', 'better', 'loving', \"don't\", 'probe', 'dig', 'pretty', 'make my', 'interested', 'good', 'not', ':->', \"didn't\", 'quite', 'im not really', 'what a', 'beat', 'lovely', 'fear', 'rewrite!:<', 'best', 'must', 'goin', 'nothing', 'good', \"can't\", 'shows', 'bored...', 'amazing.', 'deep', '\"yes,', 'like', 'yrs', 'spend a', 'good', 'better', 'so', 'how cool it would', 'interested', 'hope', 'looks', 'failed', 'better', 'sweet', 'so funny...', 'miss', 'have', 'not', 'not.', 'gotta', 'favourite', 'custom', 'success,', 'join', 'cant', 'glad', 'cant', 'oki...', 'ok', 'scared', 'streamable', 'check', 'best', 'on the', 'may', 'thanks!', 'hate', \"isn't\", 'so fun', 'keep', 'not the', ':/', 'i like that', 'peace\\\\u002c', 'big', 'watched', 'safety', 'cause some', 'yukk', 'managed', \"don't be\", 'no', 'wrong', 'we just could not stand', 'angry', 'shock, horror,', 'fries!', 'very', 'didnt get your', 'exceedingly brilliant and', 'worse', 'get', 'can', 'madness.', 'late?', '#nobigdeal', 'ugly', ':)', 'so', 'congrats', 'u', 'havent', 'bit', 'feel', 'wonderful', 'cant', 'idiots', 'so', \"haven't heard\", 'removed', 'won\\\\u2019t let', 'nice..', 'wanna', 'no', 'went too', 'thanks', 'ok.', 'get well', 'glad', 'so gd ah...', 'usual.', 'miss', 'didn\\\\u2019t', 'good', 'thought it', \"don't\", '#loveyouuuuu', 'no', 'awesome', 'best', 'dun', 'has been', 'i can', 'win', 'love', 'welcome', 'honorary', 'cool', 'ever-so-smart', 'usually', 'biggest', 'excited', 'should', '#wishyouwerehere', 'impressed', 'thank', 'so', 'whoa.', 'lost', 'not', 'dun', 'hoping', 'nice', 'thanks', 'better', 'ok', 'may', 'gd.', 'revelation', 'crisis', 'nope not', 'crossed', 'died,', 'fuggin', 'place to', 'inpired', 'good!', 'the most', 'light,', 'cancelled', 'just', 'should', 'look', 'hard', 'nothing', 'hard', 'honor', 'genuinely', 'worst', 'complaining', 'shit', 'nuts', 'such a', 'just', 'woah...', 'chance', 'awesome', 'also', 'news:', 'lol', 'poor', 'despite going', 'very', 'ist', 'good', 'muwahahahhha', 'will', 'will', 'colorful', 'nice dark', 'cancel.', \"don't\", 'prayers...', 'am out', 'so', 'not', 'proud', 'like', 'wasted', 'great', 'regret', 'should', 'best', 'excited', 'nice', 'love the', 'guilt.', 'nothing to', 'not in', 'good to ``', 'gets', 'no', 'amazing.', 'cheaper', 'absolutely', 'never', 'forget', 'excitement', 'patience!', 'may', 'pretty', \"i'm so excited\", 'gonna', 'kicked', 'thank', 'biggest', 'should', 'without getting', ':p', 'absolutely', 'nvr', 'weaknesses.', 'maybe', 'amazing', 'do not', 'be', 'have', 'amazing', 'so', 'thanks thanks...', 'let us', 'just', 'not true at', 'undecided', 'vacation..enjoy', 'class..', 'wanna', 'scare', 'possible!', 'cancel', 'amazing', 'am', 'gd', 'can not', 'im', 'keep', \"can't\", 'it:)', 'party!!!', 'just', 'can', 'ok', 'hail', 'almost', 'enjoy', 'thanks', 'loved', 'can', 'too', 'special', 'ok\\\\u002c', 'love', 'may', 'probably', 'blasting', 'grand', 'mind', 'feel', 'grand', 'could be', 'hoping', 'responsible', \"can't get\", 'come', 'clear', 'hopefully', 'can', ':-)', 'shld', 'cancelled...', 'really', 'win', 'fairly', \"didn't\", 'no', 'can help', ':(', 'happy', 'not that', 'didnt', 'hope', 'thank you', 'break ya', 'good', 'able', 'happy', 'regretting', \"can't\", 'good', 'up.happy labour', 'exclusive', 'looking', 'were', 'refunding', 'good', 'fine', 'sorry', 'cleaned', 'in full', \"don't\", 'look slightly', 'greater', 'totally sound exactly', 'believe', 'vulnerable', 'did i', 'lol!', 'tired', 'worri', 'free', 'havent', 'unlikely', 'bad', 'no', 'sorry\\\\u002c', 'hope', 'take', 'so', 'really', 'fantastic', 'better', 'would not be left', 'okie\\\\u002c', 'dun', 'cant', 'so', 'do not', 'cant', 'honor', 'suitable', 'error.', \"can't\", 'on', 'love', 'good', \"kik'd\", 'certainly', 'sooo', 'shut', 'happy', 'wrong', 'really', 'better', 'okie', 'scold', 'hate', 'too', 'was', 'fail', 'never', 'celebrating', 'really', 'not', '2nd', 'don\\\\u2019t', 'ok.', 'celebrating', 'bigger', 'promise', 'so late', 'nobody', 'much', 'a dead', 'new', 'wont', 'wont', 'cute', 'ok', 'huge', 'no', 'great', 'worse', 'new', 'thanks', 'open', 'heart goes', 'maybe', 'recovers', 'troublesome..', 'hate', 'not on', 'toast', 'lol', 'may', 'watching it', 'love', 'too', 'may have the best', \"can't\", 'gee...so', 'have', 'certainly', 'fantastic.', '4', 'great', 'loved', 'also', 'crazy', 'with a', 'no', 'worst', 'glad', \"wouldn't\", 'omg))', 'pray', 'mind-fuck', 'ok', 'gone', 'all', \"don't\", 'thanks', 'only', '(:', 'hmmm...cant', 'want', 'got', 'wasn\\\\u2019t', 'spare', 'love', 'big', 'go', 'bitch back', 'sure. see', \"can't say it's doing\", 'horrible', 'injured', 'trust', 'quarterback!', 'maybe', 'good', 'sorry', \"don't\", 'nothing to', 'do not', 'outscored', 'late', 'omigod', 'gd', 'just', 'lucky', 'argument\"', 'find', '^_^', 'impossible', 'already', 'proud', 'cant', 'nice and', 'may not be a', 'going', 'troublesome', '\"love.', 'missed', 'the old', 'hell of a', '#happygirl', 'involved!', 'believe', 'don\\\\u2019t', 'lazy', 'nothing', 'pretty', 'successful', \"don't\", 'no', 'added', 'new', 'thankful', 'finest...', 'passionate', 'no', 'sure', \"wasn't\", 'said', 'free', 'hope', 'so', 'legend.', 'not', 'better', 'sure we', 'why', 'dammn', '#1love', \"don't\", 'looking', 'gonna be', 'me.', 'best', 'pretty', 'cant', 'frustration', 'accidents', 'honor', 'take', 'best', 'lol.', 'cool', 'so', 'waaaaa.', 'does not', 'pretty', 'looks', 'thoughts', 'not toooo', 'just', 'not too', \"doesn't\", 'nice', 'gotta', 'hope', 'no', 'prefer?', 'happy', 'love', 'still have', 'not', 'ok', 'odds', '#daymade', 'cant', 'wow', 'exciting', 'love', 'ahh...nothing', 'celebrate...', 'no thks. sorry', '(:', 'pairs', \"don't\", 'boom!', 'good', 'lets', 'thank', 'perfect', 'great', 'greatest', 'happy', 'so hot!', 'pray', 'really', 'no', 'problem.', 'hope', 'get', 'sketched', 'bad.#godpunishu', 'worse', 'angry', 'ok', 'thanx', 'ok...', 'one of the sweetest', 'performs', 'mon:(', 'nice', 'dunno', 'threatened', 'smile', 'ok', 'love', 'very much', 'huge', 'interested', \"can't\", 'love,', 'sick', 'can not', 'do not', 'celebrating', 'abandonment', 'yay', 'should', 'do not', 'like', 'not', 'missed', 'shoeless', 'rejoin', 'respectable humble', \"shouldn't\", 'fuck', 'amazing!', 'misguided', 'good', 'fight', 'hang', 'no', 'may be', 'ready?', ':)', 'find it', 'missing-2,778', 'leaked', 'be', 'love', 'miss', \"could've\", 'even', 'shagged...', 'missed my', \"didn't\", 'wide.', 'unadding', 'pretty', 'nothing.', 'good', 'winner', 'unfortunately,', '#blessed', 'available?', 'blown', 'dress it up in my', 'dunno', \"can't\", ':)', 'enter', 'get', 'sorry', 'remember', 'like', 'lovely', 'would have', 'fault.', 'in', \"can't\", \"don't\", 'thanx', 'so', 'joking!', 'about', 'still', 'hoping', 'good', 'safely', 'so', 'great', 'be', 'may be', 'so', 'love,', 'angry', 'nope...', 'enjoy!', 'wrong', 'season', 'interested?', 'omigod!', 'sorrie', 'interested', 'no', 'alright.', \"don't clear\", 'want', 'sucks', 'finally,', 'looooooonnnngggggggg', 'boring', 'much', 'picketing:', 'talented/versatile', 'exhausted.', 'remember', \"couldn't make it.\", 'smart', 'thank', 'creative', 'miss', 'long', 'premiering', 'happy', 'adorable', 'prosperous', 'just a', 'dun', 'full', 'come see', 'scania...hope', 'sure', 'great', 'the fun', 'great', 'not', 'biggest', 'yay', 'going', 'oh', 'troublesome', 'so', 'just', 'unfair', 'radical', 'good', 'hilarious', 'sorry sorry', 'happy', 'ratchet', 'to win', \"that's alright\", 'cool', 'ok', 'should', '\"happy', 'love to', 'dunno...i', 'hoping', 'look', 'disapointed', 'take', 'give', 'cannot', 'incredible', \"don't\", 'won', 'amazing', 'fucking', 'available', 'pretty', 'would be', ':)', 'suffered', 'support', 'really', 'one of the greatest', 'may', 'tricky', 'o.o', 'not', 'advanced', 'cancelled', 'sounds', 'less', 'not', 'have', 'in', 'happy', 'good', 'hard to', 'enchanted', 'cant', 'didnt', 'hope', 'wana', 'celebrate', 'imagine', 'can\\\\u2019t', 'mad', 'thank', 'haha.', 'need', 'suckin', 'yes.', 'just', 'never', 'have been losing', 'buying', 'a few', \"don't get to\", 'abandonment', 'dreams come true!', 'ok...', '>.<', 'rain', 'ordinary', 'ok..', 'kissing a', 'i', 'gorgeous', ';)', 'stay', 'great', 'good', 'jealous', 'too', 'mising', 'darling', \"don't\", 'can', \"haven't\", 'ok', 'okay', 'no', 'dunno', ':)', 'nt', 'well?', 'have been feeling very', 'rocks!', 'b', 'complete', 'quick', 'doa.', 'not', 'bit', 'love', 'fail!', 'no..', 'inconvenience.', 'amazing', 'selling', 'awesome', \"don't\", 'okie', 'can', 'so', 'sorry', 'brutal', \"we've\", 'not', 'thanks', 'come', 'sure', 'missing', '#wedoinggood', 'bitch', \"won't\", 'horrible', 'happy', 'lot', 'roll', 'wish', 'need', 'love', 'sorry', 'finally', 'also', 'excellent.', 'free!!!!', \"couldn't\", 'consolation', 'wont', 'get', 'die', 'check', 'amazing', 'bad', 'helped', 'sweeeeeet', 'played', 'loves', 'come', 'arrested', 'enjoy', 'fantastic', 'disaster', 'definitely', 'omigod', 'his', 'work', 'new', 'maybe', 'may', 'sorry', 'hope', 'most', 'not', 'sick', 'amazing warm', 'ok', 'too', 'feel', 'so', 'about to', 'nice', 'beautiful', 'only', 'awesome', 'good', 'great', 'bit', 'petty!', 'lucky', 'dunno', 'right\\\\u002c', 'always ready to', 'may', 'never', 'omigod!', 'take', 'obviously have not', 'hope to', 'cannot', 'want', 'cannot', '(not', 'better', 'prayers', 'well', 'all the', 'yeah', 'pure', 'weeping', 'dc', 'depression.', 'riot', 'ok.', 'amazing', 'ok', 'no', ';)', \"can't\", 'no', ':d', 'uninvolving', 'no', 'nice', 'check', 'no u', 'watch', '#notlookingforwardtodennys!', 'check', 'but do', 'v', 'not', 'no', 'always on her a', 'day', 'best', 'injury', 'can', 'too', 'ready to rock', 'charges', 'no', 'stron', 'dumped', 'not a good role', 'weird', 'can\\\\u2019t', 'haha...', \"don't\", 'thrilled!', 'great', 'good', 'best', '#iloveyourg3-', 'so', 'laughing', 'rarely', 'ill', 'smells', '#goddoesgoodthing', 'silly', 'cant', 'cant', 'willing', 'bit', 'didnt', 'great', 'all the', 'offense', 'interested,', 'wins', 'so', 'punishment', 'you', 'crazy?', 'bad', 'happy', 'free', 'interminable', 'first', 'good', 'busy.', 'so', 'hope', \"doesn't\", 'grand', 'ok..', 'dun', 'cancelled', 'cares', 'support', \"can't\", 'don\\\\u2019t', 'dislocated', '\"\"out of', 'rather', \"couldn't\", 'really', 'spread', 'chance', 'goes', 'lead', 'nice', 'favorite', 'blessings,', 'never', 'hi', 'smile', 'sad', 'tore them', 'in', 'fuck', 'not', 'a bit', 'mistaking', 'would', 'so', 'much needed', 'for a bit not', 'celebration', 'good. cool & comfortable.', 'happy', 'so', '#toomuchexcitement', 'let me', 'awesome', 'same', 'late', \"wouldn't\", 'cannot', '#ifyoulovemeyouwillcome', 'wont', 'screening', \"didn't\", 'didnt', 'thanks', 'avoiding', 'problems', 'german', 'treated', 'excited', 'woke', 'awesome', 'cancelled', 'great', 'lose', ':/', 'leave', 'sorry\\\\u002c dun b', 'cannot', 'hv', 'dun', 'good', 'true,', 'amazing', 'donate', 'new', ':-)', \"don't\", 'good', 'cry', \"don't\", 'feels', 'not an', 'any', 'special', 'making my', 'won', 'may be', 'motivation', 'okay...', 'how bad this', 'too', 'ok', 'http://t.co/ikxnxniv', 'surprises?', 'poo-poo', 'welcome', 'dun', 'complain', 'sure', 'wrong', 'good', '#asthmaticproblems', 'extra', 'nice', 'win', 'dangerous and', 'free', 'also gd\\\\u002c', 'ok.', 'awesome', 'sure', 'no', 'hang', \"don't\", \"doesn't\", 'no', 'looking', 'terribly', 'mortar', 'inspired', 'first', 'pretty', 'good', 'dun', 'media-loving', 'love', 'miss', 'didnt', 'hate', 'wants to', 'havent', 'gross', 'not', 'exciting', 'only', 'no', 'win', 'will want to', 'sorry.', 'welcome', 'forward', 'shinning', 'promotion', 'as', 'asap.can', 'flew', 'hurry', 'can', 'please', 'not', 'not', 'enjoy', 'ready', 'quite', 'to', 'makes', 'cool,', 'wasted', 'dun', 'hope', 'fans', 'nice', 'quiet', 'persnickety', 'happy', 'default.', 'disappointing.', 'dry', 'omg', 'pretty much', 'can', 'can not go to a', 'fancy', 'longest', 'dunno', 'fast!', 'not too', \"don't miss\", \"don't even\", \"can't\", 'splendid', 'love', 's/o', 'will', 'was great', 'too', 'award', 'good.', 'lose', 'hope', 'feel', 'so', 'check', 'omg', 'still', 'looking', 'not', 'free', 'wan', 'can not', 'emotions', 'wanna', 'poor', 'moment', 'happy', 'jail', 'stress', 'happy', '#canttouchthis', 'an', 'only', 'extraordinary.', 'love', 'stop', 'crushed', 'sorry', 'regards', 'sound like', 'love', 'the best', 'just want to', 'scold', 'very', 'yeah,', 'support', 'tough', 'hope', 'still', \"couldn't stop\", 'good', 'still havent', 'completely', 'may be', 'may', 'poor', 'exactly', 'changes', 'read', 'be really', '<3', 'demanded', 'strongest.', '#proud', 'clash', 'concentrate', 'bit', 'lmao', 'sunny but', 'top', 'going', 'dont miss', 'better', 'missed', \"can't\", 'can', 'glad', 'sorry', 'weird', 'lucky', 'may not', 'come', 'havn\\\\u2019t', 'just', 'excited', 'learn', '@dont', 'else', 'shut', \"f'ing\", 'nice', 'tired?', 'lmao', 'good', \"c'mon\", 'loving life', 'no', 'best', 'even', 'hope', 'see you there!', 'win', 'good', \"wouldn't\", 'so', 'killed', 'nope', 'waste', 'going', 'be', 'more', 'always', '#awkward\"\"\"\"', 'impressive', 'good', 'cannot', 'recommend', 'never', 'support', 'nothing', 'wanna', 'so', 'favorite', 'impressed', 'not', 'loved', 'so', 'impulsively', 'really', 'eat', 'thanks', 'crazy', 'ok', 'really should go', 'wants', 'dun wanna', 'care', 'no', 'okie..', 'hit', 'good', 'a', ';)', 'my heart,my', 'ok no', 'great', 'the most', 'awesome', 'cancelled', 'good', 'frightening', 'more proud!', \"weren't\", 'promise', 'liked', 'any', 'right!!!', 'afraid', 'no', 'ignites', 'love', 'great', 'been', 'not', 'may', 'sorry.', \"don't\", 'provisionally', 'absolutely', 'humming', 'no', 'haha', 'mayb', 'spread', 'come', 'best,', 'i want', 'you', 'left:', 'great', 'seriously', 'yyyyeeeessss!!!!!', 'conquering', 'can\\\\u2019t', 'too', 'a nice', 'wanna', 'formal...', 'no', 'addictive', 'good', 'can', 'could', 'wonderful', 'dear', 'no', 'him', 'ok.', 'fantasy', 'no', \"don't sound too\", '#perfectcain', 'tired', 'more', 'cares.', 'passing', 'no', 'impressive', 'too much', 'thanks', 'speical', 'may', 'not', 'dont', 'chilled', 'yay', 'soon.', 'was', 'feel quite', 'hope', 'does not', 'oomf', 'wealth\\\\u002c', 'hope', 'scare', 'fun peace and', 'recording', 'like this', 'thanx.', 'was looking', 'great', 'hehe.think', 'not', 'trying', 'such a', 'goes', 'so sorry', 'like', 'more', 'fail', 'thanks', 'wish', 'awesome!', 'feel tired a', 'the', 'going', \"everybody @'s\", 'know', 'not', 'hoping', 'going', 'disaster.', 'continuing', 'dont', 'love', 'still', 'not', 'do', 'great', 'welcome', 'can', 'hurt', 'shows', 'may', 'gone', 'will be', 'want to', 'can', 'big', 'sorry', 'must', 'goal', 'sounds', 'lurve', 'most', \"can't\", 'ankle,should', 'takes', 'still', 'a', 'okay!', 'enjoy', 'worse', 'so', 'ridic', 'thank', 'great', 'lots to', 'no', 'not', 'awesome', 'amazing', ':d', 'just', 'lean', 'fine', 'miss u very', 'make him', 'fired', 'can\\\\u2019t', 'happy', 'good', 'to', 'necessary', 'not', 'most', 'found', 'sorry... cant', 'over the', 'advantage', 'is not', 'super', 'and miss you', 'a', 'actually', 'favor.\"\"', 'loss', 'not', 'crashed', 'strange', 'feel', 'long', 'going', \"don't watch\", 'wish me', 'all', \"can't\", 'still', 'sweaty', 'lousy', 'i', 'some', 'not', 'accuse us of', 'no one can ever take that', 'amaaaze!\"', 'free', 'i love', 'havoc', '\"\"happy', ':)', 'beautiful', 'thanks!', 'convicted', ':-d', 'hope', 'physically', 'no', 'not', 'more', 'ok', 'good', 'should', 'like', 'free', 'sori', 'not,', 'proudly', 'gonna', 'remember', 'arm', 'mad', 'welcome', 'congrats', 'yeah', 'yeeey~', 'http://t.co/l4lgyxcm', 'wrong', 'you', 'free', 'must be so', 'liked', 'win', 'special', \"i'm like\", 'so', 'wooo', 'hahaha!', 'wonderful', 'happiness.', 'ruler', 'so', 'actually', 'need', 'no one likes him!!', 'free', 'excited?', 'chat', 'best', 'great', 'helping', 'the', 'best', ':', 'can', 'lovely', 'not going to', 'well', 'would be', 'not', 'need', 'hmmmm', 'havent', 'star', 'surprised', 'happy', 'hope', 'do not', \"couldn't\", '#sagalove!!!!', 'blame', 'stuck', 'fun', 'shld cut', 'just', 'so', 'bluff', 'not', 'nothing', 'not', 'of', 'really', 'does not', 'having', 'cared', 'may or may', 'getting', 'greatest', 'defeat', 'dick.', 'wow', 'may', 'alone', 'never', 'proud', 'dead', 'cute', 'good', 'new', 'fooled', 'hahahaa', 'great', 'lol', 'dun', 'ok', 'recommends', \"didn't\", 'would not get', 'unlikely', 'immediate', 'are', 'gathered', 'supposingly', 'tough', 'snooping...#dreamcometrue', 'hottest', 'best', 'also', 'omigod omigod', 'executive', 'great', 'condemned', 'no\\\\u002c', 'want something', 'good', 'can', 'crazy', 'gets', 'hope', 'was quite', \"can't\", 'canceled.', 'love', 'never', 'signup!', 'liars', 'not', 'bombard', 'good', 'you:-)', 'didnt', 'which she', 'pretty', 'great.', 'buying', 'guilty', 'so', 'dunno', 'couldnt make', 'ok..', 'big', 'so', 'for', 'very nice soft', 'dun', 'haha\\\\u002cok\\\\u002cnvr', 'gee\\\\u002c', 'probably', '\"well', 'may', 'miracle', 'have', 'great', 'yeaa', 'stuck', 'definitely', 'awesome', 'green', 'free', 'inferior', 'great', 'cry', 'rocking good', 'worried', \"can't even\", 'haha', 'low,', 'chance?', 'stay', 'lost.', 'best', ':)', '#amazing! so', 'best', '#excited', 'curious,', 'oh', 'get', 'ok', 'rescue?', 'confidence', 'gonna miss some of my', 'good', 'should', 'so nice!!!!!!', 'better', 'nothing', 'rebuild', 'dunno', 'such an encourager!', 'thank', 'all', 'shouldnt', 'wow', 'probably handed', 'job..lucky', 'secure', 'generally', 'not', 'omigod!\"\"\"', 'a hideous', 'very', 'probably', 'actually', 'promise', 'happy nurses', 'trouble', 'agree', 'can', 'welcome', 'bullshit', ':(', 'no', 'powerful', 'isnt entirely', 'so', 'great', 'seems to', 'amazing', 'cannot', \"wouldn't\", 'not', '#idontwantit', 'you', 'want', 'merry and', 'thanx', 'free', 'proud', 'interesting.', 'happy', 'carefully.', 'merry', 'getting', 'dun', 'ok.', 'more', \"can't\", 'full...', '4th?:)', 'season!.#hopeless', 'no', 'in fantasy', 'happy', 'better.', 'hahaha', 'beat', 'fault', 'ugly', 'have not slept very', 'love', 'upset', 'doomed!', 'don\\\\u2019t', '#perfectgame', 'good', 'thanks', 'help', 'hopefully', 'wanna', 'weaker', 'excited to', 'love', 'best', 'see you', 'feel so', 'more', 'curious', 'very', 'never', 'sorry.... seems', '\"enjoy', 'love', 'improve', 'looking', 'laugh', 'still love', 'care\\\\u002c', 'punish', 'can?t make', 'to be', 'can', 'close...', 'damn', 'looking', 'not so', 'missed', '-.-', 'ok', \"don't\", 'this', 'biggest', 'finally', 'love', 'originally', 'wasnt', 'happy to', \"don't\", 'dunno', 'play', 'any', 'friendship', 'good', 'half-hearted', 'am', \"c'mon\", 'okie gd', 'make sure to', 'happy', 'happy', 'very', '#ilovefood', 'a fab', 'be able', 'sooo', 'thank', 'this', 'dare', 'great', 'wish', 'hopefully', 'struggling', 'beat', 'good', 'thanks a', 'may have been', 'wonderful', 'nice', 'celebrate', 'not', 'haha.', 'not', 'ambiguous', \"can't\", 'may be', \"can't\", 'nice', 'avoid.', 'cold', 'fastest', 'your...', 'ready', 'may', 'loved it', 'thanks', 'can', 'oh', \"can't\", 'dont', 'dun', 'should', 'a', 'in', 'ok', 'wish', 'regular', 'new baby', 'got it', 'like', 'good!!', 'hope', 'not', 'happy', 'so', 'critical', 'not', 'no', 'ah i wanna', 'too', 'wow...', 'not', 'pray for', 'friendships', 'best', 'not', 'dont', 'good', 'great', 'the', 'do', \"aren't\", 'early', 'unemployed nonstudent', 'poor', 'bit', 'care', 'best', 'good', 'starting my', 'great', 'dun', 'guy', 'may have', 'again,', 'better', 'interested', 'lucky', 'cant shop too', 'love...,', 'lack', 'okay', 'did', 'okie', 'perfect', 'oddest', 'keep', 'ambitious', 'odor', 'will be just', '\"\"bridging', 'no', '#fuck', 'sick', 'canot', 'like', 'latest...', 'want to', 'wont', 'feels', 'sun', 'cancelled', 'too', 'good', 'coming', 'hahaha', 'you!', \"didn't\", '#bringonthesun', 'missing', 'cant', 'wins', 'fighting', 'tough and', 'always', 'nice', 'can still', 'even', 'surprise', 'nope', 'superb', 'fave', 'dun', 'best', 'favourite', 'love', \"don't\", 'good', 'only', 'wanted', 'busy', 'iron', 'would', 'happy birthday', 'trust', 'new', 'short', 'going to', 'misses', 'good', 'most', \"can't\", 'really', 'still', 'great', 'thanks', '\"support', 'good', 'insists', 'wanna', 'can make', 'love', 'looking', '\"happy', 'tired? rest', \"can't beat\", 'omigod!', 'too', 'can', 'may', '\"\"happy', 'dunno', 'no', 'success\\\\u002c', 'previously', '#thankgod!', 'long', 'haha', 'gracious', 'thanks', 'not', 'contretemps', 'me', 'back', 'creepy', 'can', 'matey!', 'just', 'great', 'goodbye', 'be', 'leaving', \"don't\", 'grand', 'dislocating', 'hope not to', 'okie!', 'wanna', 'lucky', 'ends', 'only', 'curious', 'thanks', 'nice', 'strong.', 'an', 'better watch', 'not', 'no', 'the', 'bastard', 'you', 'complicated and', 'hopefully', 'can do', 'super', \"world's most\", 'what a', 'wishes', 'haha,', 'very', 'like', 'ahead', 'there in the', 'http://t.co/idygpj0d', 'fair', 'need', 'wont b too', 'creative', 'no', 'thank', 'love', 'ooh', 'exceptions', 'win', 'love', 'too', 'hope', 'all', 'your', 'come and', 'fun', 'perfect!', 'sucks', 'not', 'nobody', 'settled', 'got', 'spookiest', 'big', \"can't\", 'so many', 'happy', 'amped', 'got', 'never', 'fell', 'quite', 'nothing', 'you', 'scare', 'beautiful', 'thanx', \"won't\", 'v', 'wish', 'if', 'no', 'best', 'so', 'inspiring , frustrating and', 'yes!!!', 'should', 'ok..', 'wanna', 'leads', 'corrected', 'dun', 'bad', '(-__-)', 'beat', 'to', 'no', 'amazing', 'wait', 'will', \"can't\", 'didnt', 'have to', 'new', '=)', 'very much up my', 'fixed', 'i am very bored now...', 'upgrading', 'fun', 'bullshit', 'delicious', 'pretty', 'best', 'winners', 'love', 'sorry\\\\u002c', 'abandoned', 'hope', 'does not', 'at', 'am', 'do', 'forget', 'want', 'renowned:', 'just', 'wrong', 'killed', 'celebrate', 'can not', 'later', 'congrats', 'cool,', 'shit', 'you are', 'great!!', 'sweetest', 'ahhaha', 'old white', '(pretty', 'dun', 'health', 'adorable', 'can\\\\u2019t', 'damn', 'great ,', 'fine', 'could put the cable box in her', '#excited', 'worth', '#prideofedinburgh', 'famous', 'just cant', 'migraine', 'wan', 'real', 'used to be a', 'not', 'a', 'good', 'didnt', \"can't\", 'damage', 'do', 'sorry', 'celebrates', 'good', 'highest', 'dun', \"haven't\", 'cannot', 'no', 'lose', 'good', 'dun feel']\n"
     ]
    }
   ],
   "source": [
    "# Initialize an empty list to hold the clean reviews\n",
    "clean_train_reviews = []\n",
    "\n",
    "# Loop over each review; create an index i that goes from 0 to the length\n",
    "# of the movie review list \n",
    "for i in range(0, len(ddf1[5])):\n",
    "    clean_train_reviews.append(review_to_words( ddf1[5][i], ddf1[2][i], ddf1[3][i]))\n",
    "\n",
    "print(clean_train_reviews)"
   ]
  },
  {
   "cell_type": "code",
   "execution_count": 35,
   "metadata": {},
   "outputs": [
    {
     "name": "stdout",
     "output_type": "stream",
     "text": [
      "100000\n"
     ]
    }
   ],
   "source": [
    "df2 = pd.read_csv('./data/imdb_master/imdb_master.csv',encoding=\"latin-1\")\n",
    "df2.head()\n",
    "print(len(df2['review']))"
   ]
  },
  {
   "cell_type": "code",
   "execution_count": 36,
   "metadata": {},
   "outputs": [
    {
     "data": {
      "text/html": [
       "<div>\n",
       "<style scoped>\n",
       "    .dataframe tbody tr th:only-of-type {\n",
       "        vertical-align: middle;\n",
       "    }\n",
       "\n",
       "    .dataframe tbody tr th {\n",
       "        vertical-align: top;\n",
       "    }\n",
       "\n",
       "    .dataframe thead th {\n",
       "        text-align: right;\n",
       "    }\n",
       "</style>\n",
       "<table border=\"1\" class=\"dataframe\">\n",
       "  <thead>\n",
       "    <tr style=\"text-align: right;\">\n",
       "      <th></th>\n",
       "      <th>review</th>\n",
       "      <th>sentiment</th>\n",
       "    </tr>\n",
       "  </thead>\n",
       "  <tbody>\n",
       "    <tr>\n",
       "      <th>0</th>\n",
       "      <td>Once again Mr. Costner has dragged out a movie...</td>\n",
       "      <td>neg</td>\n",
       "    </tr>\n",
       "    <tr>\n",
       "      <th>1</th>\n",
       "      <td>This is an example of why the majority of acti...</td>\n",
       "      <td>neg</td>\n",
       "    </tr>\n",
       "    <tr>\n",
       "      <th>2</th>\n",
       "      <td>First of all I hate those moronic rappers, who...</td>\n",
       "      <td>neg</td>\n",
       "    </tr>\n",
       "    <tr>\n",
       "      <th>3</th>\n",
       "      <td>Not even the Beatles could write songs everyon...</td>\n",
       "      <td>neg</td>\n",
       "    </tr>\n",
       "    <tr>\n",
       "      <th>4</th>\n",
       "      <td>Brass pictures (movies is not a fitting word f...</td>\n",
       "      <td>neg</td>\n",
       "    </tr>\n",
       "  </tbody>\n",
       "</table>\n",
       "</div>"
      ],
      "text/plain": [
       "                                              review sentiment\n",
       "0  Once again Mr. Costner has dragged out a movie...       neg\n",
       "1  This is an example of why the majority of acti...       neg\n",
       "2  First of all I hate those moronic rappers, who...       neg\n",
       "3  Not even the Beatles could write songs everyon...       neg\n",
       "4  Brass pictures (movies is not a fitting word f...       neg"
      ]
     },
     "execution_count": 36,
     "metadata": {},
     "output_type": "execute_result"
    }
   ],
   "source": [
    "df2 = df2.drop(['Unnamed: 0','type','file'],axis=1)\n",
    "df2.columns = [\"review\",\"sentiment\"]\n",
    "df2.head()"
   ]
  },
  {
   "cell_type": "code",
   "execution_count": 37,
   "metadata": {},
   "outputs": [
    {
     "data": {
      "text/html": [
       "<div>\n",
       "<style scoped>\n",
       "    .dataframe tbody tr th:only-of-type {\n",
       "        vertical-align: middle;\n",
       "    }\n",
       "\n",
       "    .dataframe tbody tr th {\n",
       "        vertical-align: top;\n",
       "    }\n",
       "\n",
       "    .dataframe thead th {\n",
       "        text-align: right;\n",
       "    }\n",
       "</style>\n",
       "<table border=\"1\" class=\"dataframe\">\n",
       "  <thead>\n",
       "    <tr style=\"text-align: right;\">\n",
       "      <th></th>\n",
       "      <th>review</th>\n",
       "      <th>sentiment</th>\n",
       "    </tr>\n",
       "  </thead>\n",
       "  <tbody>\n",
       "    <tr>\n",
       "      <th>0</th>\n",
       "      <td>Once again Mr. Costner has dragged out a movie...</td>\n",
       "      <td>0</td>\n",
       "    </tr>\n",
       "    <tr>\n",
       "      <th>1</th>\n",
       "      <td>This is an example of why the majority of acti...</td>\n",
       "      <td>0</td>\n",
       "    </tr>\n",
       "    <tr>\n",
       "      <th>2</th>\n",
       "      <td>First of all I hate those moronic rappers, who...</td>\n",
       "      <td>0</td>\n",
       "    </tr>\n",
       "    <tr>\n",
       "      <th>3</th>\n",
       "      <td>Not even the Beatles could write songs everyon...</td>\n",
       "      <td>0</td>\n",
       "    </tr>\n",
       "    <tr>\n",
       "      <th>4</th>\n",
       "      <td>Brass pictures (movies is not a fitting word f...</td>\n",
       "      <td>0</td>\n",
       "    </tr>\n",
       "  </tbody>\n",
       "</table>\n",
       "</div>"
      ],
      "text/plain": [
       "                                              review  sentiment\n",
       "0  Once again Mr. Costner has dragged out a movie...          0\n",
       "1  This is an example of why the majority of acti...          0\n",
       "2  First of all I hate those moronic rappers, who...          0\n",
       "3  Not even the Beatles could write songs everyon...          0\n",
       "4  Brass pictures (movies is not a fitting word f...          0"
      ]
     },
     "execution_count": 37,
     "metadata": {},
     "output_type": "execute_result"
    }
   ],
   "source": [
    "df2 = df2[df2.sentiment != 'unsup']\n",
    "df2['sentiment'] = df2['sentiment'].map({'pos': 1, 'neg': 0})\n",
    "df2.head()"
   ]
  },
  {
   "cell_type": "code",
   "execution_count": 10,
   "metadata": {},
   "outputs": [
    {
     "ename": "NameError",
     "evalue": "name 'CountVectorizer' is not defined",
     "output_type": "error",
     "traceback": [
      "\u001b[0;31m---------------------------------------------------------------------------\u001b[0m",
      "\u001b[0;31mNameError\u001b[0m                                 Traceback (most recent call last)",
      "\u001b[0;32m<ipython-input-10-5135668199ec>\u001b[0m in \u001b[0;36m<module>\u001b[0;34m\u001b[0m\n\u001b[0;32m----> 1\u001b[0;31m vectorizer = CountVectorizer(analyzer = \"word\",   \\\n\u001b[0m\u001b[1;32m      2\u001b[0m                              \u001b[0mtokenizer\u001b[0m \u001b[0;34m=\u001b[0m \u001b[0;32mNone\u001b[0m\u001b[0;34m,\u001b[0m\u001b[0;31m \u001b[0m\u001b[0;31m \u001b[0m\u001b[0;31m \u001b[0m\u001b[0;31m \u001b[0m\u001b[0;31m\\\u001b[0m\u001b[0;34m\u001b[0m\u001b[0;34m\u001b[0m\u001b[0m\n\u001b[1;32m      3\u001b[0m                              \u001b[0mpreprocessor\u001b[0m \u001b[0;34m=\u001b[0m \u001b[0;32mNone\u001b[0m\u001b[0;34m,\u001b[0m\u001b[0;31m \u001b[0m\u001b[0;31m\\\u001b[0m\u001b[0;34m\u001b[0m\u001b[0;34m\u001b[0m\u001b[0m\n\u001b[1;32m      4\u001b[0m                              \u001b[0mstop_words\u001b[0m \u001b[0;34m=\u001b[0m \u001b[0;32mNone\u001b[0m\u001b[0;34m,\u001b[0m\u001b[0;31m \u001b[0m\u001b[0;31m \u001b[0m\u001b[0;31m \u001b[0m\u001b[0;31m\\\u001b[0m\u001b[0;34m\u001b[0m\u001b[0;34m\u001b[0m\u001b[0m\n\u001b[1;32m      5\u001b[0m                              max_features = 5000) \n",
      "\u001b[0;31mNameError\u001b[0m: name 'CountVectorizer' is not defined"
     ]
    }
   ],
   "source": [
    "vectorizer = CountVectorizer(analyzer = \"word\",   \\\n",
    "                             tokenizer = None,    \\\n",
    "                             preprocessor = None, \\\n",
    "                             stop_words = None,   \\\n",
    "                             max_features = 5000) \n",
    "\n",
    "train_data_features = vectorizer.fit_transform(clean_train_reviews)\n",
    "train_data_features = train_data_features.toarray()\n",
    "print(train_data_features)"
   ]
  },
  {
   "cell_type": "code",
   "execution_count": 25,
   "metadata": {
    "_uuid": "43cbec25f37de8995907c9ae65e9411fca06ee55"
   },
   "outputs": [
    {
     "data": {
      "text/html": [
       "<div>\n",
       "<style scoped>\n",
       "    .dataframe tbody tr th:only-of-type {\n",
       "        vertical-align: middle;\n",
       "    }\n",
       "\n",
       "    .dataframe tbody tr th {\n",
       "        vertical-align: top;\n",
       "    }\n",
       "\n",
       "    .dataframe thead th {\n",
       "        text-align: right;\n",
       "    }\n",
       "</style>\n",
       "<table border=\"1\" class=\"dataframe\">\n",
       "  <thead>\n",
       "    <tr style=\"text-align: right;\">\n",
       "      <th></th>\n",
       "      <th>Unnamed: 0</th>\n",
       "      <th>type</th>\n",
       "      <th>review</th>\n",
       "      <th>label</th>\n",
       "      <th>file</th>\n",
       "    </tr>\n",
       "  </thead>\n",
       "  <tbody>\n",
       "    <tr>\n",
       "      <th>0</th>\n",
       "      <td>0</td>\n",
       "      <td>test</td>\n",
       "      <td>Once again Mr. Costner has dragged out a movie...</td>\n",
       "      <td>neg</td>\n",
       "      <td>0_2.txt</td>\n",
       "    </tr>\n",
       "    <tr>\n",
       "      <th>1</th>\n",
       "      <td>1</td>\n",
       "      <td>test</td>\n",
       "      <td>This is an example of why the majority of acti...</td>\n",
       "      <td>neg</td>\n",
       "      <td>10000_4.txt</td>\n",
       "    </tr>\n",
       "    <tr>\n",
       "      <th>2</th>\n",
       "      <td>2</td>\n",
       "      <td>test</td>\n",
       "      <td>First of all I hate those moronic rappers, who...</td>\n",
       "      <td>neg</td>\n",
       "      <td>10001_1.txt</td>\n",
       "    </tr>\n",
       "    <tr>\n",
       "      <th>3</th>\n",
       "      <td>3</td>\n",
       "      <td>test</td>\n",
       "      <td>Not even the Beatles could write songs everyon...</td>\n",
       "      <td>neg</td>\n",
       "      <td>10002_3.txt</td>\n",
       "    </tr>\n",
       "    <tr>\n",
       "      <th>4</th>\n",
       "      <td>4</td>\n",
       "      <td>test</td>\n",
       "      <td>Brass pictures (movies is not a fitting word f...</td>\n",
       "      <td>neg</td>\n",
       "      <td>10003_3.txt</td>\n",
       "    </tr>\n",
       "  </tbody>\n",
       "</table>\n",
       "</div>"
      ],
      "text/plain": [
       "   Unnamed: 0  type                                             review label  \\\n",
       "0           0  test  Once again Mr. Costner has dragged out a movie...   neg   \n",
       "1           1  test  This is an example of why the majority of acti...   neg   \n",
       "2           2  test  First of all I hate those moronic rappers, who...   neg   \n",
       "3           3  test  Not even the Beatles could write songs everyon...   neg   \n",
       "4           4  test  Brass pictures (movies is not a fitting word f...   neg   \n",
       "\n",
       "          file  \n",
       "0      0_2.txt  \n",
       "1  10000_4.txt  \n",
       "2  10001_1.txt  \n",
       "3  10002_3.txt  \n",
       "4  10003_3.txt  "
      ]
     },
     "execution_count": 25,
     "metadata": {},
     "output_type": "execute_result"
    }
   ],
   "source": [
    "df2 = pd.read_csv('./data/imdb_master/imdb_master.csv',encoding=\"latin-1\")\n",
    "df2.head()"
   ]
  },
  {
   "cell_type": "code",
   "execution_count": 27,
   "metadata": {
    "_uuid": "d9424b01c0ff0c4e0722c5fb1cc73f130c4c0813"
   },
   "outputs": [
    {
     "data": {
      "text/html": [
       "<div>\n",
       "<style scoped>\n",
       "    .dataframe tbody tr th:only-of-type {\n",
       "        vertical-align: middle;\n",
       "    }\n",
       "\n",
       "    .dataframe tbody tr th {\n",
       "        vertical-align: top;\n",
       "    }\n",
       "\n",
       "    .dataframe thead th {\n",
       "        text-align: right;\n",
       "    }\n",
       "</style>\n",
       "<table border=\"1\" class=\"dataframe\">\n",
       "  <thead>\n",
       "    <tr style=\"text-align: right;\">\n",
       "      <th></th>\n",
       "      <th>review</th>\n",
       "      <th>sentiment</th>\n",
       "    </tr>\n",
       "  </thead>\n",
       "  <tbody>\n",
       "    <tr>\n",
       "      <th>0</th>\n",
       "      <td>Once again Mr. Costner has dragged out a movie...</td>\n",
       "      <td>neg</td>\n",
       "    </tr>\n",
       "    <tr>\n",
       "      <th>1</th>\n",
       "      <td>This is an example of why the majority of acti...</td>\n",
       "      <td>neg</td>\n",
       "    </tr>\n",
       "    <tr>\n",
       "      <th>2</th>\n",
       "      <td>First of all I hate those moronic rappers, who...</td>\n",
       "      <td>neg</td>\n",
       "    </tr>\n",
       "    <tr>\n",
       "      <th>3</th>\n",
       "      <td>Not even the Beatles could write songs everyon...</td>\n",
       "      <td>neg</td>\n",
       "    </tr>\n",
       "    <tr>\n",
       "      <th>4</th>\n",
       "      <td>Brass pictures (movies is not a fitting word f...</td>\n",
       "      <td>neg</td>\n",
       "    </tr>\n",
       "  </tbody>\n",
       "</table>\n",
       "</div>"
      ],
      "text/plain": [
       "                                              review sentiment\n",
       "0  Once again Mr. Costner has dragged out a movie...       neg\n",
       "1  This is an example of why the majority of acti...       neg\n",
       "2  First of all I hate those moronic rappers, who...       neg\n",
       "3  Not even the Beatles could write songs everyon...       neg\n",
       "4  Brass pictures (movies is not a fitting word f...       neg"
      ]
     },
     "execution_count": 27,
     "metadata": {},
     "output_type": "execute_result"
    }
   ],
   "source": [
    "df2 = df2.drop(['Unnamed: 0','type','file'],axis=1)\n",
    "df2.columns = [\"review\",\"sentiment\"]\n",
    "df2.head()"
   ]
  },
  {
   "cell_type": "code",
   "execution_count": 16,
   "metadata": {
    "_uuid": "6be14c5fc77cec6e434e0fb258933d31567f6f2c"
   },
   "outputs": [
    {
     "data": {
      "text/html": [
       "<div>\n",
       "<style scoped>\n",
       "    .dataframe tbody tr th:only-of-type {\n",
       "        vertical-align: middle;\n",
       "    }\n",
       "\n",
       "    .dataframe tbody tr th {\n",
       "        vertical-align: top;\n",
       "    }\n",
       "\n",
       "    .dataframe thead th {\n",
       "        text-align: right;\n",
       "    }\n",
       "</style>\n",
       "<table border=\"1\" class=\"dataframe\">\n",
       "  <thead>\n",
       "    <tr style=\"text-align: right;\">\n",
       "      <th></th>\n",
       "      <th>review</th>\n",
       "      <th>sentiment</th>\n",
       "    </tr>\n",
       "  </thead>\n",
       "  <tbody>\n",
       "    <tr>\n",
       "      <th>0</th>\n",
       "      <td>Once again Mr. Costner has dragged out a movie...</td>\n",
       "      <td>0</td>\n",
       "    </tr>\n",
       "    <tr>\n",
       "      <th>1</th>\n",
       "      <td>This is an example of why the majority of acti...</td>\n",
       "      <td>0</td>\n",
       "    </tr>\n",
       "    <tr>\n",
       "      <th>2</th>\n",
       "      <td>First of all I hate those moronic rappers, who...</td>\n",
       "      <td>0</td>\n",
       "    </tr>\n",
       "    <tr>\n",
       "      <th>3</th>\n",
       "      <td>Not even the Beatles could write songs everyon...</td>\n",
       "      <td>0</td>\n",
       "    </tr>\n",
       "    <tr>\n",
       "      <th>4</th>\n",
       "      <td>Brass pictures (movies is not a fitting word f...</td>\n",
       "      <td>0</td>\n",
       "    </tr>\n",
       "  </tbody>\n",
       "</table>\n",
       "</div>"
      ],
      "text/plain": [
       "                                              review  sentiment\n",
       "0  Once again Mr. Costner has dragged out a movie...          0\n",
       "1  This is an example of why the majority of acti...          0\n",
       "2  First of all I hate those moronic rappers, who...          0\n",
       "3  Not even the Beatles could write songs everyon...          0\n",
       "4  Brass pictures (movies is not a fitting word f...          0"
      ]
     },
     "execution_count": 16,
     "metadata": {},
     "output_type": "execute_result"
    }
   ],
   "source": [
    "df2 = df2[df2.sentiment != 'unsup']\n",
    "df2['sentiment'] = df2['sentiment'].map({'pos': 1, 'neg': 0})\n",
    "df2.head()"
   ]
  },
  {
   "cell_type": "code",
   "execution_count": 38,
   "metadata": {},
   "outputs": [
    {
     "name": "stdout",
     "output_type": "stream",
     "text": [
      "10475\n"
     ]
    }
   ],
   "source": [
    "print(len(clean_train_reviews))"
   ]
  },
  {
   "cell_type": "code",
   "execution_count": 39,
   "metadata": {},
   "outputs": [
    {
     "name": "stdout",
     "output_type": "stream",
     "text": [
      "60475\n"
     ]
    }
   ],
   "source": [
    "for item in df2[\"review\"]:\n",
    "    clean_train_reviews.append(item)\n",
    "\n",
    "print(len(clean_train_reviews))"
   ]
  },
  {
   "cell_type": "code",
   "execution_count": 18,
   "metadata": {},
   "outputs": [
    {
     "data": {
      "text/html": [
       "<div>\n",
       "<style scoped>\n",
       "    .dataframe tbody tr th:only-of-type {\n",
       "        vertical-align: middle;\n",
       "    }\n",
       "\n",
       "    .dataframe tbody tr th {\n",
       "        vertical-align: top;\n",
       "    }\n",
       "\n",
       "    .dataframe thead th {\n",
       "        text-align: right;\n",
       "    }\n",
       "</style>\n",
       "<table border=\"1\" class=\"dataframe\">\n",
       "  <thead>\n",
       "    <tr style=\"text-align: right;\">\n",
       "      <th></th>\n",
       "      <th>review</th>\n",
       "      <th>sentiment</th>\n",
       "    </tr>\n",
       "  </thead>\n",
       "  <tbody>\n",
       "    <tr>\n",
       "      <th>0</th>\n",
       "      <td>Once again Mr. Costner has dragged out a movie...</td>\n",
       "      <td>negative</td>\n",
       "    </tr>\n",
       "    <tr>\n",
       "      <th>1</th>\n",
       "      <td>This is an example of why the majority of acti...</td>\n",
       "      <td>negative</td>\n",
       "    </tr>\n",
       "    <tr>\n",
       "      <th>2</th>\n",
       "      <td>First of all I hate those moronic rappers, who...</td>\n",
       "      <td>negative</td>\n",
       "    </tr>\n",
       "    <tr>\n",
       "      <th>3</th>\n",
       "      <td>Not even the Beatles could write songs everyon...</td>\n",
       "      <td>negative</td>\n",
       "    </tr>\n",
       "    <tr>\n",
       "      <th>4</th>\n",
       "      <td>Brass pictures (movies is not a fitting word f...</td>\n",
       "      <td>negative</td>\n",
       "    </tr>\n",
       "  </tbody>\n",
       "</table>\n",
       "</div>"
      ],
      "text/plain": [
       "                                              review sentiment\n",
       "0  Once again Mr. Costner has dragged out a movie...  negative\n",
       "1  This is an example of why the majority of acti...  negative\n",
       "2  First of all I hate those moronic rappers, who...  negative\n",
       "3  Not even the Beatles could write songs everyon...  negative\n",
       "4  Brass pictures (movies is not a fitting word f...  negative"
      ]
     },
     "execution_count": 18,
     "metadata": {},
     "output_type": "execute_result"
    }
   ],
   "source": [
    "df2['sentiment'] = df2['sentiment'].map({1: 'positive', 0: 'negative'})\n",
    "df2.head()"
   ]
  },
  {
   "cell_type": "code",
   "execution_count": 20,
   "metadata": {
    "_uuid": "1f502985bfb208f282d096cf4eda4df52ba628e3"
   },
   "outputs": [
    {
     "data": {
      "text/html": [
       "<div>\n",
       "<style scoped>\n",
       "    .dataframe tbody tr th:only-of-type {\n",
       "        vertical-align: middle;\n",
       "    }\n",
       "\n",
       "    .dataframe tbody tr th {\n",
       "        vertical-align: top;\n",
       "    }\n",
       "\n",
       "    .dataframe thead th {\n",
       "        text-align: right;\n",
       "    }\n",
       "</style>\n",
       "<table border=\"1\" class=\"dataframe\">\n",
       "  <thead>\n",
       "    <tr style=\"text-align: right;\">\n",
       "      <th></th>\n",
       "      <th>review</th>\n",
       "      <th>sentiment</th>\n",
       "    </tr>\n",
       "  </thead>\n",
       "  <tbody>\n",
       "    <tr>\n",
       "      <th>0</th>\n",
       "      <td>Gas by my house hit $3.39!!!! I'm going to Cha...</td>\n",
       "      <td>positive</td>\n",
       "    </tr>\n",
       "    <tr>\n",
       "      <th>1</th>\n",
       "      <td>Iranian general says Israel's Iron Dome can't ...</td>\n",
       "      <td>negative</td>\n",
       "    </tr>\n",
       "    <tr>\n",
       "      <th>2</th>\n",
       "      <td>with J Davlar 11th. Main rivals are team Polan...</td>\n",
       "      <td>positive</td>\n",
       "    </tr>\n",
       "    <tr>\n",
       "      <th>3</th>\n",
       "      <td>with J Davlar 11th. Main rivals are team Polan...</td>\n",
       "      <td>positive</td>\n",
       "    </tr>\n",
       "    <tr>\n",
       "      <th>4</th>\n",
       "      <td>with J Davlar 11th. Main rivals are team Polan...</td>\n",
       "      <td>positive</td>\n",
       "    </tr>\n",
       "  </tbody>\n",
       "</table>\n",
       "</div>"
      ],
      "text/plain": [
       "                                              review sentiment\n",
       "0  Gas by my house hit $3.39!!!! I'm going to Cha...  positive\n",
       "1  Iranian general says Israel's Iron Dome can't ...  negative\n",
       "2  with J Davlar 11th. Main rivals are team Polan...  positive\n",
       "3  with J Davlar 11th. Main rivals are team Polan...  positive\n",
       "4  with J Davlar 11th. Main rivals are team Polan...  positive"
      ]
     },
     "execution_count": 20,
     "metadata": {},
     "output_type": "execute_result"
    }
   ],
   "source": [
    "df = pd.concat([ddf1, df2]).reset_index(drop=True)\n",
    "df.head()"
   ]
  },
  {
   "cell_type": "code",
   "execution_count": null,
   "metadata": {
    "_uuid": "e08a2867d342084bde763daecb65f094273b06c7"
   },
   "outputs": [],
   "source": [
    "import re\n",
    "from nltk.stem import WordNetLemmatizer\n",
    "from nltk.corpus import stopwords\n",
    "\n",
    "stop_words = set(stopwords.words(\"english\")) \n",
    "lemmatizer = WordNetLemmatizer()\n",
    "\n",
    "\n",
    "def clean_text(text):\n",
    "    text = re.sub(r'[^\\w\\s]','',text, re.UNICODE)\n",
    "    text = text.lower()\n",
    "    text = [lemmatizer.lemmatize(token) for token in text.split(\" \")]\n",
    "    text = [lemmatizer.lemmatize(token, \"v\") for token in text]\n",
    "    text = [word for word in text if not word in stop_words]\n",
    "    text = \" \".join(text)\n",
    "    return text\n",
    "\n",
    "df['Processed_Reviews'] = df.review.apply(lambda x: clean_text(x))"
   ]
  },
  {
   "cell_type": "code",
   "execution_count": 63,
   "metadata": {},
   "outputs": [
    {
     "data": {
      "text/html": [
       "<div>\n",
       "<style scoped>\n",
       "    .dataframe tbody tr th:only-of-type {\n",
       "        vertical-align: middle;\n",
       "    }\n",
       "\n",
       "    .dataframe tbody tr th {\n",
       "        vertical-align: top;\n",
       "    }\n",
       "\n",
       "    .dataframe thead th {\n",
       "        text-align: right;\n",
       "    }\n",
       "</style>\n",
       "<table border=\"1\" class=\"dataframe\">\n",
       "  <thead>\n",
       "    <tr style=\"text-align: right;\">\n",
       "      <th></th>\n",
       "      <th>Unnamed: 0</th>\n",
       "      <th>sentiment</th>\n",
       "      <th>Processed_Reviews</th>\n",
       "    </tr>\n",
       "  </thead>\n",
       "  <tbody>\n",
       "    <tr>\n",
       "      <th>0</th>\n",
       "      <td>0</td>\n",
       "      <td>positive</td>\n",
       "      <td>gas house hit           go chapel hill sit</td>\n",
       "    </tr>\n",
       "    <tr>\n",
       "      <th>1</th>\n",
       "      <td>1</td>\n",
       "      <td>negative</td>\n",
       "      <td>iranian general say israel iron dome deal miss...</td>\n",
       "    </tr>\n",
       "    <tr>\n",
       "      <th>2</th>\n",
       "      <td>2</td>\n",
       "      <td>positive</td>\n",
       "      <td>j davlar   th  main rival team poland  hopeful...</td>\n",
       "    </tr>\n",
       "    <tr>\n",
       "      <th>3</th>\n",
       "      <td>3</td>\n",
       "      <td>positive</td>\n",
       "      <td>j davlar   th  main rival team poland  hopeful...</td>\n",
       "    </tr>\n",
       "    <tr>\n",
       "      <th>4</th>\n",
       "      <td>4</td>\n",
       "      <td>positive</td>\n",
       "      <td>j davlar   th  main rival team poland  hopeful...</td>\n",
       "    </tr>\n",
       "  </tbody>\n",
       "</table>\n",
       "</div>"
      ],
      "text/plain": [
       "   Unnamed: 0 sentiment                                  Processed_Reviews\n",
       "0           0  positive     gas house hit           go chapel hill sit    \n",
       "1           1  negative  iranian general say israel iron dome deal miss...\n",
       "2           2  positive  j davlar   th  main rival team poland  hopeful...\n",
       "3           3  positive  j davlar   th  main rival team poland  hopeful...\n",
       "4           4  positive  j davlar   th  main rival team poland  hopeful..."
      ]
     },
     "execution_count": 63,
     "metadata": {},
     "output_type": "execute_result"
    }
   ],
   "source": [
    "df1 = pd.read_csv('./data/result.tsv', delimiter=\"\\t\")\n",
    "df1 = df1.drop(['id'], axis=1)\n",
    "df1.head()"
   ]
  },
  {
   "cell_type": "code",
   "execution_count": 28,
   "metadata": {},
   "outputs": [
    {
     "data": {
      "text/html": [
       "<div>\n",
       "<style scoped>\n",
       "    .dataframe tbody tr th:only-of-type {\n",
       "        vertical-align: middle;\n",
       "    }\n",
       "\n",
       "    .dataframe tbody tr th {\n",
       "        vertical-align: top;\n",
       "    }\n",
       "\n",
       "    .dataframe thead th {\n",
       "        text-align: right;\n",
       "    }\n",
       "</style>\n",
       "<table border=\"1\" class=\"dataframe\">\n",
       "  <thead>\n",
       "    <tr style=\"text-align: right;\">\n",
       "      <th></th>\n",
       "      <th>review</th>\n",
       "      <th>sentiment</th>\n",
       "    </tr>\n",
       "  </thead>\n",
       "  <tbody>\n",
       "    <tr>\n",
       "      <th>0</th>\n",
       "      <td>Once again Mr. Costner has dragged out a movie...</td>\n",
       "      <td>0.0</td>\n",
       "    </tr>\n",
       "    <tr>\n",
       "      <th>1</th>\n",
       "      <td>This is an example of why the majority of acti...</td>\n",
       "      <td>0.0</td>\n",
       "    </tr>\n",
       "    <tr>\n",
       "      <th>2</th>\n",
       "      <td>First of all I hate those moronic rappers, who...</td>\n",
       "      <td>0.0</td>\n",
       "    </tr>\n",
       "    <tr>\n",
       "      <th>3</th>\n",
       "      <td>Not even the Beatles could write songs everyon...</td>\n",
       "      <td>0.0</td>\n",
       "    </tr>\n",
       "    <tr>\n",
       "      <th>4</th>\n",
       "      <td>Brass pictures (movies is not a fitting word f...</td>\n",
       "      <td>0.0</td>\n",
       "    </tr>\n",
       "  </tbody>\n",
       "</table>\n",
       "</div>"
      ],
      "text/plain": [
       "                                              review  sentiment\n",
       "0  Once again Mr. Costner has dragged out a movie...        0.0\n",
       "1  This is an example of why the majority of acti...        0.0\n",
       "2  First of all I hate those moronic rappers, who...        0.0\n",
       "3  Not even the Beatles could write songs everyon...        0.0\n",
       "4  Brass pictures (movies is not a fitting word f...        0.0"
      ]
     },
     "execution_count": 28,
     "metadata": {},
     "output_type": "execute_result"
    }
   ],
   "source": [
    "df2['sentiment'] = df2['sentiment'].map({'pos': 1, 'neutral': 1, 'neg': 0})\n",
    "df2.head()"
   ]
  },
  {
   "cell_type": "code",
   "execution_count": 40,
   "metadata": {
    "scrolled": true
   },
   "outputs": [
    {
     "name": "stdout",
     "output_type": "stream",
     "text": [
      "60475\n"
     ]
    }
   ],
   "source": [
    "temp = []\n",
    "for item in ddf1[4]:\n",
    "    if item == \"positive\":\n",
    "        temp.append(1)\n",
    "    elif item == \"neutral\":\n",
    "        temp.append(1)\n",
    "    else:\n",
    "        temp.append(0)\n",
    "for item in df2['sentiment']:\n",
    "    temp.append(item)\n",
    "\n",
    "print(len(temp))"
   ]
  },
  {
   "cell_type": "code",
   "execution_count": 41,
   "metadata": {
    "_uuid": "2e2dc8a1cd71d8be15ce4103b7bfccddcbb2cb3b"
   },
   "outputs": [
    {
     "name": "stdout",
     "output_type": "stream",
     "text": [
      "Train on 48380 samples, validate on 12095 samples\n",
      "Epoch 1/15\n",
      "48380/48380 [==============================] - 64s 1ms/step - loss: 0.4290 - acc: 0.7950 - val_loss: 0.6594 - val_acc: 0.7191\n",
      "Epoch 2/15\n",
      "48380/48380 [==============================] - 61s 1ms/step - loss: 0.2885 - acc: 0.8750 - val_loss: 0.5763 - val_acc: 0.7603\n",
      "Epoch 3/15\n",
      "48380/48380 [==============================] - 61s 1ms/step - loss: 0.2370 - acc: 0.9013 - val_loss: 0.6053 - val_acc: 0.7325\n",
      "Epoch 4/15\n",
      "48380/48380 [==============================] - 61s 1ms/step - loss: 0.1963 - acc: 0.9192 - val_loss: 0.6156 - val_acc: 0.7700\n",
      "Epoch 5/15\n",
      "48380/48380 [==============================] - 60s 1ms/step - loss: 0.1664 - acc: 0.9312 - val_loss: 0.7029 - val_acc: 0.7635\n",
      "Epoch 6/15\n",
      "48380/48380 [==============================] - 60s 1ms/step - loss: 0.1399 - acc: 0.9418 - val_loss: 0.6618 - val_acc: 0.8120\n",
      "Epoch 7/15\n",
      "48380/48380 [==============================] - 61s 1ms/step - loss: 0.1219 - acc: 0.9476 - val_loss: 0.7283 - val_acc: 0.8041\n",
      "Epoch 8/15\n",
      "48380/48380 [==============================] - 61s 1ms/step - loss: 0.1049 - acc: 0.9554 - val_loss: 0.9435 - val_acc: 0.7802\n",
      "Epoch 9/15\n",
      "48380/48380 [==============================] - 62s 1ms/step - loss: 0.0946 - acc: 0.9586 - val_loss: 1.0478 - val_acc: 0.7819\n",
      "Epoch 10/15\n",
      "48380/48380 [==============================] - 61s 1ms/step - loss: 0.0887 - acc: 0.9605 - val_loss: 1.2116 - val_acc: 0.7674\n",
      "Epoch 11/15\n",
      "48380/48380 [==============================] - 58s 1ms/step - loss: 0.0828 - acc: 0.9609 - val_loss: 1.4412 - val_acc: 0.7603\n",
      "Epoch 12/15\n",
      "48380/48380 [==============================] - 58s 1ms/step - loss: 0.0860 - acc: 0.9601 - val_loss: 1.2993 - val_acc: 0.7727\n",
      "Epoch 13/15\n",
      "48380/48380 [==============================] - 59s 1ms/step - loss: 0.0820 - acc: 0.9617 - val_loss: 1.2209 - val_acc: 0.7974\n",
      "Epoch 14/15\n",
      "48380/48380 [==============================] - 62s 1ms/step - loss: 0.0778 - acc: 0.9636 - val_loss: 1.7200 - val_acc: 0.7413\n",
      "Epoch 15/15\n",
      "48380/48380 [==============================] - 61s 1ms/step - loss: 0.0797 - acc: 0.9628 - val_loss: 1.4948 - val_acc: 0.7745\n"
     ]
    },
    {
     "data": {
      "text/plain": [
       "<keras.callbacks.History at 0x7fe2b95b1d30>"
      ]
     },
     "execution_count": 41,
     "metadata": {},
     "output_type": "execute_result"
    }
   ],
   "source": [
    "from keras.preprocessing.text import Tokenizer\n",
    "from keras.preprocessing.sequence import pad_sequences\n",
    "from keras.layers import Dense , Input , LSTM , Embedding, Dropout , Activation, GRU, Flatten\n",
    "from keras.layers import Bidirectional, GlobalMaxPool1D\n",
    "from keras.models import Model, Sequential\n",
    "from keras.layers import Convolution1D\n",
    "from keras import initializers, regularizers, constraints, optimizers, layers\n",
    "\n",
    "max_features = 6000\n",
    "tokenizer = Tokenizer(num_words=max_features)\n",
    "tokenizer.fit_on_texts(clean_train_reviews)\n",
    "list_tokenized_train = tokenizer.texts_to_sequences(clean_train_reviews)\n",
    "\n",
    "maxlen = 130\n",
    "X_t = pad_sequences(list_tokenized_train, maxlen=maxlen)\n",
    "y = temp\n",
    "\n",
    "embed_size = 128\n",
    "model = Sequential()\n",
    "model.add(Embedding(max_features, embed_size))\n",
    "model.add(Bidirectional(LSTM(32, return_sequences = True)))\n",
    "model.add(GlobalMaxPool1D())\n",
    "model.add(Dense(20, activation=\"relu\"))\n",
    "model.add(Dropout(0.05))\n",
    "model.add(Dense(1, activation=\"sigmoid\"))\n",
    "model.compile(loss='binary_crossentropy', optimizer='adam', metrics=['accuracy'])\n",
    "\n",
    "batch_size = 100\n",
    "epochs = 15\n",
    "model.fit(X_t,y, batch_size=batch_size, epochs=epochs, validation_split=0.2)"
   ]
  },
  {
   "cell_type": "code",
   "execution_count": 43,
   "metadata": {},
   "outputs": [
    {
     "data": {
      "text/html": [
       "<div>\n",
       "<style scoped>\n",
       "    .dataframe tbody tr th:only-of-type {\n",
       "        vertical-align: middle;\n",
       "    }\n",
       "\n",
       "    .dataframe tbody tr th {\n",
       "        vertical-align: top;\n",
       "    }\n",
       "\n",
       "    .dataframe thead th {\n",
       "        text-align: right;\n",
       "    }\n",
       "</style>\n",
       "<table border=\"1\" class=\"dataframe\">\n",
       "  <thead>\n",
       "    <tr style=\"text-align: right;\">\n",
       "      <th></th>\n",
       "      <th>0</th>\n",
       "      <th>1</th>\n",
       "      <th>2</th>\n",
       "      <th>3</th>\n",
       "      <th>4</th>\n",
       "      <th>5</th>\n",
       "    </tr>\n",
       "  </thead>\n",
       "  <tbody>\n",
       "    <tr>\n",
       "      <th>0</th>\n",
       "      <td>NaN</td>\n",
       "      <td>1</td>\n",
       "      <td>25</td>\n",
       "      <td>26</td>\n",
       "      <td>unknwn</td>\n",
       "      <td>@GMA My daughter @jordynking17 will be 14 on D...</td>\n",
       "    </tr>\n",
       "    <tr>\n",
       "      <th>1</th>\n",
       "      <td>NaN</td>\n",
       "      <td>2</td>\n",
       "      <td>13</td>\n",
       "      <td>13</td>\n",
       "      <td>unknwn</td>\n",
       "      <td>@moanajkidd The massacre on March 11 in Karm a...</td>\n",
       "    </tr>\n",
       "    <tr>\n",
       "      <th>2</th>\n",
       "      <td>NaN</td>\n",
       "      <td>3</td>\n",
       "      <td>2</td>\n",
       "      <td>2</td>\n",
       "      <td>unknwn</td>\n",
       "      <td>Happy Veteran day....may God continue 2 Bless ...</td>\n",
       "    </tr>\n",
       "    <tr>\n",
       "      <th>3</th>\n",
       "      <td>NaN</td>\n",
       "      <td>4</td>\n",
       "      <td>10</td>\n",
       "      <td>10</td>\n",
       "      <td>unknwn</td>\n",
       "      <td>I miss old school Dashboard Confessional, taki...</td>\n",
       "    </tr>\n",
       "    <tr>\n",
       "      <th>4</th>\n",
       "      <td>NaN</td>\n",
       "      <td>5</td>\n",
       "      <td>10</td>\n",
       "      <td>11</td>\n",
       "      <td>unknwn</td>\n",
       "      <td>@f_cancellara @Klitschko You weren't expecting...</td>\n",
       "    </tr>\n",
       "  </tbody>\n",
       "</table>\n",
       "</div>"
      ],
      "text/plain": [
       "    0  1   2   3       4                                                  5\n",
       "0 NaN  1  25  26  unknwn  @GMA My daughter @jordynking17 will be 14 on D...\n",
       "1 NaN  2  13  13  unknwn  @moanajkidd The massacre on March 11 in Karm a...\n",
       "2 NaN  3   2   2  unknwn  Happy Veteran day....may God continue 2 Bless ...\n",
       "3 NaN  4  10  10  unknwn  I miss old school Dashboard Confessional, taki...\n",
       "4 NaN  5  10  11  unknwn  @f_cancellara @Klitschko You weren't expecting..."
      ]
     },
     "execution_count": 43,
     "metadata": {},
     "output_type": "execute_result"
    }
   ],
   "source": [
    "df_test = pd.read_csv(\"./target-sentiment-analysis/test.tsv\", header=None, delimiter=\"\\t\", quoting=3)\n",
    "df_test.head()\n"
   ]
  },
  {
   "cell_type": "code",
   "execution_count": 45,
   "metadata": {},
   "outputs": [
    {
     "name": "stdout",
     "output_type": "stream",
     "text": [
      "Review 1000 of 5267\n",
      "\n",
      "Review 2000 of 5267\n",
      "\n",
      "Review 3000 of 5267\n",
      "\n",
      "Review 4000 of 5267\n",
      "\n",
      "Review 5000 of 5267\n",
      "\n"
     ]
    }
   ],
   "source": [
    "clean_test_reviews = [] \n",
    "for i in range(0, len(df_test[5])):\n",
    "    if( (i+1) % 1000 == 0 ):\n",
    "        print(\"Review %d of %d\\n\" % (i+1, len(df_test[5])))\n",
    "    clean_review = review_to_words( df_test[5][i], df_test[2][i], df_test[3][i] )\n",
    "    clean_test_reviews.append(clean_review)"
   ]
  },
  {
   "cell_type": "code",
   "execution_count": 48,
   "metadata": {
    "_uuid": "bf093d54044461be3954e535f66636d45abe93da"
   },
   "outputs": [],
   "source": [
    "#y_test = df_test[\"sentiment\"]\n",
    "list_sentences_test = clean_test_reviews\n",
    "list_tokenized_test = tokenizer.texts_to_sequences(list_sentences_test)\n",
    "X_te = pad_sequences(list_tokenized_test, maxlen=maxlen)\n",
    "prediction = model.predict(X_te)\n",
    "y_pred = (prediction > 0.5)\n",
    "#from sklearn.metrics import f1_score, confusion_matrix\n",
    "#print('F1-score: {0}'.format(f1_score(y_pred, y_test)))\n",
    "#print('Confusion matrix:')\n",
    "#confusion_matrix(y_pred, y_test)"
   ]
  },
  {
   "cell_type": "code",
   "execution_count": 51,
   "metadata": {},
   "outputs": [
    {
     "name": "stdout",
     "output_type": "stream",
     "text": [
      "5267\n"
     ]
    }
   ],
   "source": [
    "result = []\n",
    "for item in y_pred:\n",
    "    if item == True:\n",
    "        result.append(\"positive\")\n",
    "    else:\n",
    "        result.append(\"negative\")\n",
    "print(len(result))"
   ]
  },
  {
   "cell_type": "code",
   "execution_count": 53,
   "metadata": {},
   "outputs": [
    {
     "data": {
      "text/html": [
       "<div>\n",
       "<style scoped>\n",
       "    .dataframe tbody tr th:only-of-type {\n",
       "        vertical-align: middle;\n",
       "    }\n",
       "\n",
       "    .dataframe tbody tr th {\n",
       "        vertical-align: top;\n",
       "    }\n",
       "\n",
       "    .dataframe thead th {\n",
       "        text-align: right;\n",
       "    }\n",
       "</style>\n",
       "<table border=\"1\" class=\"dataframe\">\n",
       "  <thead>\n",
       "    <tr style=\"text-align: right;\">\n",
       "      <th></th>\n",
       "      <th>id</th>\n",
       "      <th>polarity</th>\n",
       "    </tr>\n",
       "  </thead>\n",
       "  <tbody>\n",
       "    <tr>\n",
       "      <th>0</th>\n",
       "      <td>1</td>\n",
       "      <td>positive</td>\n",
       "    </tr>\n",
       "    <tr>\n",
       "      <th>1</th>\n",
       "      <td>2</td>\n",
       "      <td>negative</td>\n",
       "    </tr>\n",
       "    <tr>\n",
       "      <th>2</th>\n",
       "      <td>3</td>\n",
       "      <td>neutral</td>\n",
       "    </tr>\n",
       "    <tr>\n",
       "      <th>3</th>\n",
       "      <td>4</td>\n",
       "      <td>negative</td>\n",
       "    </tr>\n",
       "    <tr>\n",
       "      <th>4</th>\n",
       "      <td>5</td>\n",
       "      <td>positive</td>\n",
       "    </tr>\n",
       "  </tbody>\n",
       "</table>\n",
       "</div>"
      ],
      "text/plain": [
       "   id  polarity\n",
       "0   1  positive\n",
       "1   2  negative\n",
       "2   3   neutral\n",
       "3   4  negative\n",
       "4   5  positive"
      ]
     },
     "execution_count": 53,
     "metadata": {},
     "output_type": "execute_result"
    }
   ],
   "source": [
    "neutral = pd.read_csv('./resultccc.tsv',encoding=\"latin-1\")\n",
    "neutral.head()"
   ]
  },
  {
   "cell_type": "code",
   "execution_count": 57,
   "metadata": {},
   "outputs": [
    {
     "name": "stdout",
     "output_type": "stream",
     "text": [
      "5267\n",
      "225 225\n"
     ]
    }
   ],
   "source": [
    "print(len(neutral[\"polarity\"]))\n",
    "for i in range(len(neutral[\"polarity\"])):\n",
    "    if neutral[\"polarity\"][i] == 'neutral':\n",
    "        result[i] = 'neutral'\n",
    "count1 = 0\n",
    "count2 = 0\n",
    "for i in range(len(result)):\n",
    "    if neutral[\"polarity\"][i] == 'neutral':\n",
    "        count1 += 1\n",
    "    if result[i] == 'neutral':\n",
    "        count2 += 1\n",
    "print(count1, count2)"
   ]
  },
  {
   "cell_type": "code",
   "execution_count": 58,
   "metadata": {},
   "outputs": [
    {
     "name": "stdout",
     "output_type": "stream",
     "text": [
      "5267 5267\n"
     ]
    }
   ],
   "source": [
    "idx = []\n",
    "for i in range(1, len(result) + 1):\n",
    "    idx.append(i)\n",
    "print(idx[5266], len(result))"
   ]
  },
  {
   "cell_type": "code",
   "execution_count": 59,
   "metadata": {},
   "outputs": [],
   "source": [
    "output = pd.DataFrame( data={\"id\":idx, \"polarity\":result} )\n",
    "\n",
    "# Use pandas to write the comma-separated output file\n",
    "output.to_csv( \"resultsssss.tsv\", index=False, quoting=3 )"
   ]
  },
  {
   "cell_type": "code",
   "execution_count": null,
   "metadata": {},
   "outputs": [],
   "source": []
  }
 ],
 "metadata": {
  "kernelspec": {
   "display_name": "Python 3",
   "language": "python",
   "name": "python3"
  },
  "language_info": {
   "codemirror_mode": {
    "name": "ipython",
    "version": 3
   },
   "file_extension": ".py",
   "mimetype": "text/x-python",
   "name": "python",
   "nbconvert_exporter": "python",
   "pygments_lexer": "ipython3",
   "version": "3.6.8"
  }
 },
 "nbformat": 4,
 "nbformat_minor": 1
}
